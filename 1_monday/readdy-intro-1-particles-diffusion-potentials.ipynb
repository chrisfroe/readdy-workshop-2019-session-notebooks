{
 "cells": [
  {
   "cell_type": "markdown",
   "metadata": {},
   "source": [
    "# ReaDDy intro I: Particles, diffusion and potentials\n",
    "In this ipython notebook we will cover:\n",
    "- principle workflow of readdy: `system` and `simulation`\n",
    "- adding particle species to `system`\n",
    "- adding potentials to `system`\n",
    "- spatial layout of simulation box and box potentials [link to simulation box setup in documentation](link)\n",
    "- adding particle instances at given positions to `simulation`\n",
    "- convert trajectory output to VMD viewable format\n",
    "\n",
    "\n",
    "The __principal workflow__ of ReaDDy is\n",
    "1. Create and configure a `readdy.ReactionDiffusionSystem`, i.e. particle species, potentials, reactions, topologies\n",
    "2. Get a `Simulation` object and configure it, i.e. output file, observables, initial particle positions\n",
    "3. Run the `Simulation`, by choosing a time step size and the number of integration steps\n",
    "4. Analyze results\n",
    "\n",
    "Keep in mind:\n",
    "- When in doubt, refer to the online documentation https://readdy.github.io !\n",
    "- Make use of tab-completion in notebooks !"
   ]
  },
  {
   "cell_type": "code",
   "execution_count": null,
   "metadata": {},
   "outputs": [],
   "source": [
    "import os\n",
    "import numpy as np\n",
    "import readdy\n",
    "print(readdy.__version__)"
   ]
  },
  {
   "cell_type": "markdown",
   "metadata": {},
   "source": [
    "## System\n",
    "The first step is to create a `ReactionDiffusionSystem`. The system defines the parameters that will not change during the course of a simulation."
   ]
  },
  {
   "cell_type": "code",
   "execution_count": null,
   "metadata": {},
   "outputs": [],
   "source": [
    "system = readdy.ReactionDiffusionSystem(box_size=[10.,10.,10.])"
   ]
  },
  {
   "cell_type": "markdown",
   "metadata": {},
   "source": [
    "that has various properties"
   ]
  },
  {
   "cell_type": "code",
   "execution_count": null,
   "metadata": {},
   "outputs": [],
   "source": [
    "system.box_size"
   ]
  },
  {
   "cell_type": "code",
   "execution_count": null,
   "metadata": {},
   "outputs": [],
   "source": [
    "system.temperature"
   ]
  },
  {
   "cell_type": "code",
   "execution_count": null,
   "metadata": {},
   "outputs": [],
   "source": [
    "system.kbt"
   ]
  },
  {
   "cell_type": "code",
   "execution_count": null,
   "metadata": {},
   "outputs": [],
   "source": [
    "system.periodic_boundary_conditions"
   ]
  },
  {
   "cell_type": "code",
   "execution_count": null,
   "metadata": {},
   "outputs": [],
   "source": [
    "system.length_unit, system.time_unit, system.energy_unit"
   ]
  },
  {
   "cell_type": "markdown",
   "metadata": {},
   "source": [
    "We can add particle species (types)"
   ]
  },
  {
   "cell_type": "code",
   "execution_count": null,
   "metadata": {},
   "outputs": [],
   "source": [
    "system.add_species(\"A\", diffusion_constant=1.0)"
   ]
  },
  {
   "cell_type": "markdown",
   "metadata": {},
   "source": [
    "## Simulation\n",
    "From this system, we can create a `Simulation` object, which runs on a specific kernel"
   ]
  },
  {
   "cell_type": "code",
   "execution_count": null,
   "metadata": {},
   "outputs": [],
   "source": [
    "simulation = system.simulation(kernel=\"SingleCPU\")"
   ]
  },
  {
   "cell_type": "code",
   "execution_count": null,
   "metadata": {},
   "outputs": [],
   "source": [
    "simulation.output_file = \"./oneparticle.h5\"\n",
    "simulation.record_trajectory()"
   ]
  },
  {
   "cell_type": "markdown",
   "metadata": {},
   "source": [
    "Set the initial position in 3D coordinates of a single particle"
   ]
  },
  {
   "cell_type": "code",
   "execution_count": null,
   "metadata": {},
   "outputs": [],
   "source": [
    "simulation.add_particle(\"A\", [0.,0.,0.])"
   ]
  },
  {
   "cell_type": "markdown",
   "metadata": {},
   "source": [
    "Run the simulation"
   ]
  },
  {
   "cell_type": "code",
   "execution_count": null,
   "metadata": {},
   "outputs": [],
   "source": [
    "if os.path.exists(simulation.output_file):\n",
    "    os.remove(simulation.output_file)\n",
    "\n",
    "simulation.run(n_steps=1000, timestep=0.01)"
   ]
  },
  {
   "cell_type": "markdown",
   "metadata": {},
   "source": [
    "Look at results. The `!` prefix in a cell forwards the command to the (bash) shell."
   ]
  },
  {
   "cell_type": "code",
   "execution_count": null,
   "metadata": {},
   "outputs": [],
   "source": [
    "!ls | grep oneparticle"
   ]
  },
  {
   "cell_type": "markdown",
   "metadata": {},
   "source": [
    "Read the trajectory file, and convert the results to a VMD compatible format."
   ]
  },
  {
   "cell_type": "code",
   "execution_count": null,
   "metadata": {},
   "outputs": [],
   "source": [
    "traj = readdy.Trajectory(filename=\"oneparticle.h5\")"
   ]
  },
  {
   "cell_type": "code",
   "execution_count": null,
   "metadata": {},
   "outputs": [],
   "source": [
    "traj.convert_to_xyz()"
   ]
  },
  {
   "cell_type": "code",
   "execution_count": null,
   "metadata": {},
   "outputs": [],
   "source": [
    "!ls | grep oneparticle"
   ]
  },
  {
   "cell_type": "code",
   "execution_count": null,
   "metadata": {
    "scrolled": true
   },
   "outputs": [],
   "source": [
    "!vmd -e oneparticle.h5.xyz.tcl > /dev/null"
   ]
  },
  {
   "cell_type": "markdown",
   "metadata": {},
   "source": [
    "## Two particles"
   ]
  },
  {
   "cell_type": "code",
   "execution_count": null,
   "metadata": {},
   "outputs": [],
   "source": [
    "system = readdy.ReactionDiffusionSystem([10.,10.,10.], unit_system=None)\n",
    "system.add_species(\"A\", diffusion_constant=1.0)\n",
    "system.add_species(\"B\", diffusion_constant=0.1)"
   ]
  },
  {
   "cell_type": "code",
   "execution_count": null,
   "metadata": {},
   "outputs": [],
   "source": [
    "simulation = system.simulation(\"SingleCPU\")\n",
    "simulation.output_file = \"twospecies.h5\"\n",
    "simulation.record_trajectory()\n",
    "simulation.add_particle(\"A\", [0.,0.,0.])\n",
    "simulation.add_particle(\"B\", [1.,1.,1.])"
   ]
  },
  {
   "cell_type": "code",
   "execution_count": null,
   "metadata": {},
   "outputs": [],
   "source": [
    "if os.path.exists(simulation.output_file):\n",
    "    os.remove(simulation.output_file)\n",
    "\n",
    "simulation.run(1000, 0.01)"
   ]
  },
  {
   "cell_type": "code",
   "execution_count": null,
   "metadata": {},
   "outputs": [],
   "source": [
    "!ls | grep twospecies"
   ]
  },
  {
   "cell_type": "code",
   "execution_count": null,
   "metadata": {},
   "outputs": [],
   "source": [
    "traj = readdy.Trajectory(\"twospecies.h5\")\n",
    "traj.convert_to_xyz()"
   ]
  },
  {
   "cell_type": "code",
   "execution_count": null,
   "metadata": {},
   "outputs": [],
   "source": [
    "!vmd -e twospecies.h5.xyz.tcl > /dev/null"
   ]
  },
  {
   "cell_type": "markdown",
   "metadata": {},
   "source": [
    "## Many particles"
   ]
  },
  {
   "cell_type": "code",
   "execution_count": null,
   "metadata": {},
   "outputs": [],
   "source": [
    "system = readdy.ReactionDiffusionSystem([10.,10.,10.], unit_system=None)\n",
    "system.add_species(\"A\", diffusion_constant=1.0)\n",
    "system.add_species(\"B\", diffusion_constant=0.1)"
   ]
  },
  {
   "cell_type": "code",
   "execution_count": null,
   "metadata": {},
   "outputs": [],
   "source": [
    "simulation = system.simulation(\"SingleCPU\")\n",
    "simulation.output_file = \"manyparticles.h5\"\n",
    "simulation.record_trajectory()\n",
    "n_particles = 100\n",
    "for i in range(n_particles):\n",
    "    simulation.add_particle(\"A\", np.random.uniform(size=3)*10. - 5.)\n",
    "    simulation.add_particle(\"B\", np.random.uniform(size=3)*10. - 5.)"
   ]
  },
  {
   "cell_type": "code",
   "execution_count": null,
   "metadata": {},
   "outputs": [],
   "source": [
    "if os.path.exists(simulation.output_file):\n",
    "    os.remove(simulation.output_file)\n",
    "\n",
    "simulation.run(1000, 0.01)"
   ]
  },
  {
   "cell_type": "code",
   "execution_count": null,
   "metadata": {},
   "outputs": [],
   "source": [
    "!ls | grep manyparticles"
   ]
  },
  {
   "cell_type": "code",
   "execution_count": null,
   "metadata": {},
   "outputs": [],
   "source": [
    "traj = readdy.Trajectory(\"manyparticles.h5\")\n",
    "traj.convert_to_xyz()"
   ]
  },
  {
   "cell_type": "code",
   "execution_count": null,
   "metadata": {},
   "outputs": [],
   "source": [
    "!vmd -e manyparticles.h5.xyz.tcl > /dev/null"
   ]
  },
  {
   "cell_type": "markdown",
   "metadata": {},
   "source": [
    "What happens at the boundary?\n",
    "\n",
    "### Simulation box, box potential\n",
    "see https://readdy.github.io/workshop_sessions.html#cookbook\n",
    "and https://readdy.github.io/system.html#box-potential"
   ]
  },
  {
   "cell_type": "markdown",
   "metadata": {},
   "source": [
    "What happens if system is non-periodic?"
   ]
  },
  {
   "cell_type": "code",
   "execution_count": null,
   "metadata": {},
   "outputs": [],
   "source": [
    "system = readdy.ReactionDiffusionSystem(\n",
    "    [10.,10.,10.], \n",
    "    periodic_boundary_conditions=[False, False, False],\n",
    "    unit_system=None\n",
    ")\n",
    "system.add_species(\"A\", 1.)"
   ]
  },
  {
   "cell_type": "code",
   "execution_count": null,
   "metadata": {},
   "outputs": [],
   "source": [
    "if True:\n",
    "    system.potentials.add_box(\"A\", force_constant=20., origin=[-3.,-3.,-3.], extent=[6.,6.,6.])"
   ]
  },
  {
   "cell_type": "code",
   "execution_count": null,
   "metadata": {},
   "outputs": [],
   "source": [
    "simulation = system.simulation(\"SingleCPU\")\n",
    "simulation.output_file = \"box.h5\"\n",
    "simulation.record_trajectory()\n",
    "simulation.add_particles(\"A\", np.zeros((40,3)))\n",
    "\n",
    "if os.path.exists(simulation.output_file):\n",
    "    os.remove(simulation.output_file)\n",
    "simulation.run(10000, 0.01)"
   ]
  },
  {
   "cell_type": "code",
   "execution_count": null,
   "metadata": {},
   "outputs": [],
   "source": [
    "traj = readdy.Trajectory(\"box.h5\")\n",
    "traj.convert_to_xyz(tcl_with_grid=True)"
   ]
  },
  {
   "cell_type": "code",
   "execution_count": null,
   "metadata": {},
   "outputs": [],
   "source": [
    "!vmd -e box.h5.xyz.tcl > /dev/null"
   ]
  },
  {
   "cell_type": "markdown",
   "metadata": {},
   "source": [
    "Note that all particles must always be in the simulation box. If the system is non-periodic, you should use a box potential to contain the particles inside.\n",
    "The following image shows the relation of the simulation box and the box potential's _origin_ and _extent_\n",
    "![](https://readdy.github.io/assets/box_potential_within.png)"
   ]
  },
  {
   "cell_type": "markdown",
   "metadata": {},
   "source": [
    "## Confine particles to 2D\n",
    "You can use a box potential with a very small _extent_ in one dimension to confine particles to a very thin 3D sheet."
   ]
  },
  {
   "cell_type": "code",
   "execution_count": null,
   "metadata": {},
   "outputs": [],
   "source": [
    "system = readdy.ReactionDiffusionSystem(\n",
    "    [10.,10.,10.], \n",
    "    periodic_boundary_conditions=[False, False, False],\n",
    "    unit_system=None\n",
    ")\n",
    "system.add_species(\"A\", 1.)\n",
    "system.potentials.add_box(\"A\", force_constant=20., origin=[-3.,-3.,0.], extent=[6.,6.,0.01])"
   ]
  },
  {
   "cell_type": "code",
   "execution_count": null,
   "metadata": {},
   "outputs": [],
   "source": [
    "simulation = system.simulation(\"SingleCPU\")\n",
    "simulation.output_file = \"box2d.h5\"\n",
    "simulation.record_trajectory()\n",
    "simulation.add_particles(\"A\", np.zeros((40,3)))\n",
    "\n",
    "if os.path.exists(simulation.output_file):\n",
    "    os.remove(simulation.output_file)\n",
    "simulation.run(10000, 0.01)"
   ]
  },
  {
   "cell_type": "code",
   "execution_count": null,
   "metadata": {},
   "outputs": [],
   "source": [
    "traj = readdy.Trajectory(\"box2d.h5\")\n",
    "traj.convert_to_xyz(tcl_with_grid=True)"
   ]
  },
  {
   "cell_type": "code",
   "execution_count": null,
   "metadata": {},
   "outputs": [],
   "source": [
    "!vmd -e box2d.h5.xyz.tcl > /dev/null"
   ]
  },
  {
   "cell_type": "code",
   "execution_count": null,
   "metadata": {},
   "outputs": [],
   "source": []
  }
 ],
 "metadata": {
  "kernelspec": {
   "display_name": "Python 3",
   "language": "python",
   "name": "python3"
  },
  "language_info": {
   "codemirror_mode": {
    "name": "ipython",
    "version": 3
   },
   "file_extension": ".py",
   "mimetype": "text/x-python",
   "name": "python",
   "nbconvert_exporter": "python",
   "pygments_lexer": "ipython3",
   "version": "3.7.3"
  }
 },
 "nbformat": 4,
 "nbformat_minor": 2
}
