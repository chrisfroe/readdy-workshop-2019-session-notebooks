{
 "cells": [
  {
   "cell_type": "markdown",
   "metadata": {},
   "source": [
    "# ReaDDy intro II: Reactions, observables and checkpoints"
   ]
  },
  {
   "cell_type": "code",
   "execution_count": null,
   "metadata": {},
   "outputs": [],
   "source": [
    "import numpy as np\n",
    "import os\n",
    "import matplotlib.pyplot as plt\n",
    "import readdy"
   ]
  },
  {
   "cell_type": "code",
   "execution_count": null,
   "metadata": {},
   "outputs": [],
   "source": [
    "data_dir = \"/enter/directory/here\"\n",
    "if not os.path.exists(data_dir):\n",
    "    raise ValueError(\"HALT STOP\")"
   ]
  },
  {
   "cell_type": "markdown",
   "metadata": {},
   "source": [
    "## Simple observable example\n",
    "`A + A -> B`, observe number of particles"
   ]
  },
  {
   "cell_type": "code",
   "execution_count": null,
   "metadata": {},
   "outputs": [],
   "source": [
    "system = readdy.ReactionDiffusionSystem(box_size=[20.,20.,20.], unit_system=None)"
   ]
  },
  {
   "cell_type": "code",
   "execution_count": null,
   "metadata": {},
   "outputs": [],
   "source": [
    "system.add_species(\"A\", diffusion_constant=1.0)\n",
    "system.add_species(\"B\", diffusion_constant=1.0)"
   ]
  },
  {
   "cell_type": "code",
   "execution_count": null,
   "metadata": {},
   "outputs": [],
   "source": [
    "system.reactions.add(\"myfusionname: A +(1) A -> B\", rate=0.1)"
   ]
  },
  {
   "cell_type": "code",
   "execution_count": null,
   "metadata": {},
   "outputs": [],
   "source": [
    "simulation = system.simulation()"
   ]
  },
  {
   "cell_type": "code",
   "execution_count": null,
   "metadata": {},
   "outputs": [],
   "source": [
    "simulation.output_file = os.path.join(data_dir, \"fusion.h5\")\n",
    "simulation.observe.number_of_particles(10, [\"A\", \"B\"], callback=lambda x: print(f\"A {x[0]} B {x[1]}\"))"
   ]
  },
  {
   "cell_type": "code",
   "execution_count": null,
   "metadata": {},
   "outputs": [],
   "source": [
    "simulation.record_trajectory(10)"
   ]
  },
  {
   "cell_type": "code",
   "execution_count": null,
   "metadata": {},
   "outputs": [],
   "source": [
    "simulation.add_particles(\"A\", positions=np.random.uniform(size=(1000,3))*20. - 10.)"
   ]
  },
  {
   "cell_type": "code",
   "execution_count": null,
   "metadata": {},
   "outputs": [],
   "source": [
    "if os.path.exists(simulation.output_file):\n",
    "    os.remove(simulation.output_file)\n",
    "\n",
    "simulation.run(10000, timestep=0.01)"
   ]
  },
  {
   "cell_type": "code",
   "execution_count": null,
   "metadata": {},
   "outputs": [],
   "source": [
    "traj = readdy.Trajectory(simulation.output_file)"
   ]
  },
  {
   "cell_type": "code",
   "execution_count": null,
   "metadata": {},
   "outputs": [],
   "source": [
    "traj.convert_to_xyz(particle_radii={\"A\": 0.5, \"B\": 0.5}, draw_box=True)"
   ]
  },
  {
   "cell_type": "code",
   "execution_count": null,
   "metadata": {},
   "outputs": [],
   "source": [
    "times, numbers = traj.read_observable_number_of_particles()\n",
    "print(times.shape)\n",
    "print(numbers.shape)"
   ]
  },
  {
   "cell_type": "code",
   "execution_count": null,
   "metadata": {},
   "outputs": [],
   "source": [
    "plt.plot(times, numbers[:,0])\n",
    "plt.xlabel(\"Timestep\")\n",
    "plt.ylabel(\"Number of particles\")"
   ]
  },
  {
   "cell_type": "markdown",
   "metadata": {},
   "source": [
    "## Simple checkpointing example\n",
    "Equilibrating a soft particle suspension"
   ]
  },
  {
   "cell_type": "code",
   "execution_count": null,
   "metadata": {},
   "outputs": [],
   "source": [
    "crowded = False\n",
    "name = \"crowded\" if crowded else \"free\"\n",
    "\n",
    "n_particles = 1000\n",
    "origin = np.array([-9.,-9.,-9.])\n",
    "extent = np.array([18.,18.,18.])\n",
    "\n",
    "data_dir = \"/home/chris/workspace/data/workshop\"\n",
    "out_file = os.path.join(data_dir, f\"{name}.h5\")\n",
    "checkpoint_dir = os.path.join(data_dir, f\"ckpts_{name}\")\n",
    "n_steps = 20000\n",
    "dt = 1e-2"
   ]
  },
  {
   "cell_type": "code",
   "execution_count": null,
   "metadata": {},
   "outputs": [],
   "source": [
    "system = readdy.ReactionDiffusionSystem(\n",
    "    [20.,20.,20.], \n",
    "    periodic_boundary_conditions=[False, False, False],\n",
    "    unit_system=None)\n",
    "\n",
    "system.add_species(\"A\", 0.1)\n",
    "\n",
    "system.potentials.add_box(\"A\", 100., origin=origin, extent=extent)\n",
    "\n",
    "if crowded:\n",
    "    system.potentials.add_harmonic_repulsion(\"A\", \"A\", force_constant=100., interaction_distance=2.)"
   ]
  },
  {
   "cell_type": "code",
   "execution_count": null,
   "metadata": {},
   "outputs": [],
   "source": [
    "simulation = system.simulation(\"SingleCPU\")\n",
    "simulation.output_file = out_file\n",
    "\n",
    "simulation.observe.particle_positions(stride=1)\n",
    "\n",
    "if os.path.exists(checkpoint_dir):\n",
    "    simulation.load_particles_from_latest_checkpoint(checkpoint_dir)\n",
    "else:\n",
    "    init_pos = np.random.uniform(size=(n_particles, 3)) * extent + origin\n",
    "    simulation.add_particles(\"A\", init_pos)\n",
    "\n",
    "# this also creates the directory, if it does not exist\n",
    "simulation.make_checkpoints(n_steps//100, output_directory=checkpoint_dir, max_n_saves=10)\n",
    "\n",
    "if os.path.exists(simulation.output_file):\n",
    "    os.remove(simulation.output_file)\n",
    "    \n",
    "simulation.run(n_steps, dt)"
   ]
  }
 ],
 "metadata": {
  "kernelspec": {
   "display_name": "Python 3",
   "language": "python",
   "name": "python3"
  },
  "language_info": {
   "codemirror_mode": {
    "name": "ipython",
    "version": 3
   },
   "file_extension": ".py",
   "mimetype": "text/x-python",
   "name": "python",
   "nbconvert_exporter": "python",
   "pygments_lexer": "ipython3",
   "version": "3.7.3"
  }
 },
 "nbformat": 4,
 "nbformat_minor": 2
}
