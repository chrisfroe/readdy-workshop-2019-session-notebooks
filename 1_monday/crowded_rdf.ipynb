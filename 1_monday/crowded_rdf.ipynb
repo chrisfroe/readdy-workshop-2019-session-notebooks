{
 "cells": [
  {
   "cell_type": "markdown",
   "metadata": {},
   "source": [
    "# Radial distribution function in crowded system"
   ]
  },
  {
   "cell_type": "code",
   "execution_count": 30,
   "metadata": {},
   "outputs": [],
   "source": [
    "import os\n",
    "import shutil\n",
    "import numpy as np\n",
    "import matplotlib.pyplot as plt\n",
    "import readdy"
   ]
  },
  {
   "cell_type": "code",
   "execution_count": 31,
   "metadata": {},
   "outputs": [],
   "source": [
    "crowded = True\n",
    "name = \"crowded_rdf\" if crowded else \"free_rdf\"\n",
    "\n",
    "n_particles = 1000\n",
    "origin = np.array([-10.,-10.,-10.])\n",
    "extent = np.array([20.,20.,20.])\n",
    "\n",
    "data_dir = \"/home/chris/workspace/data/workshop\"\n",
    "out_file = os.path.join(data_dir, f\"{name}.h5\")\n",
    "checkpoint_dir = os.path.join(data_dir, f\"ckpts_{name}\")\n",
    "n_steps = 20000\n",
    "dt = 1e-2"
   ]
  },
  {
   "cell_type": "code",
   "execution_count": 32,
   "metadata": {},
   "outputs": [],
   "source": [
    "system = readdy.ReactionDiffusionSystem(\n",
    "    [20.,20.,20.], \n",
    "    periodic_boundary_conditions=[True, True, True],\n",
    "    unit_system=None)\n",
    "\n",
    "system.add_species(\"A\", 0.1)\n",
    "\n",
    "if crowded:\n",
    "    system.potentials.add_harmonic_repulsion(\"A\", \"A\", force_constant=100., interaction_distance=2.)"
   ]
  },
  {
   "cell_type": "code",
   "execution_count": 33,
   "metadata": {},
   "outputs": [],
   "source": [
    "simulation = system.simulation(\"SingleCPU\")\n",
    "simulation.output_file = out_file"
   ]
  },
  {
   "cell_type": "code",
   "execution_count": 34,
   "metadata": {},
   "outputs": [],
   "source": [
    "simulation.observe.rdf(stride=2000, bin_borders=np.arange(0.,10.,0.2),\n",
    "                       types_count_from=\"A\", types_count_to=\"A\",\n",
    "                       particle_to_density=n_particles/system.box_volume)"
   ]
  },
  {
   "cell_type": "markdown",
   "metadata": {},
   "source": [
    "If file already exists, make use of checkpoints. Otherwise add new particles."
   ]
  },
  {
   "cell_type": "code",
   "execution_count": 35,
   "metadata": {},
   "outputs": [
    {
     "name": "stderr",
     "output_type": "stream",
     "text": [
      "  0%|          | 5/2000 [00:00<00:42, 46.66it/s]"
     ]
    },
    {
     "name": "stdout",
     "output_type": "stream",
     "text": [
      "Configured kernel context with:\n",
      "--------------------------------\n",
      " - kBT = 1\n",
      " - periodic b.c. = (true, true, true)\n",
      " - box size = (20, 20, 20)\n",
      " - particle types:\n",
      "     *  particle type \"A\" with D=0.1\n",
      " - potentials of order 2:\n",
      "     * for types \"A\" and \"A\"\n",
      "         * Harmonic repulsion with force constant k=100\n",
      "\n",
      "Configured simulation loop with:\n",
      "--------------------------------\n",
      " - timeStep = 0.01\n",
      " - evaluateObservables = true\n",
      " - progressOutputStride = 10\n",
      " - context written to file = true\n",
      " - Performing actions:\n",
      "   * Initialize neighbor list? true\n",
      "   * Update neighbor list? true\n",
      "   * Clear neighbor list? true\n",
      "   * Integrate diffusion? true\n",
      "   * Calculate forces? true\n",
      "   * Handle reactions? true\n",
      "   * Handle topology reactions? true\n",
      " - Performing checkpointing:\n",
      "   * stride: 200\n",
      "   * base path: /home/chris/workspace/data/workshop/ckpts_crowded_rdf\n",
      "   * checkpoint filename template: checkpoint_{}.h5\n",
      "   * maximal number saves: 10\n",
      "\n"
     ]
    },
    {
     "name": "stderr",
     "output_type": "stream",
     "text": [
      "100%|██████████| 2000/2000 [00:25<00:00, 79.85it/s]\n"
     ]
    }
   ],
   "source": [
    "if os.path.exists(checkpoint_dir):\n",
    "    simulation.load_particles_from_latest_checkpoint(checkpoint_dir)\n",
    "else:\n",
    "    init_pos = np.random.uniform(size=(n_particles, 3)) * extent + origin\n",
    "    simulation.add_particles(\"A\", init_pos)\n",
    "\n",
    "# this also creates the directory, if it does not exist\n",
    "simulation.make_checkpoints(n_steps//100, output_directory=checkpoint_dir, max_n_saves=10)\n",
    "\n",
    "if os.path.exists(simulation.output_file):\n",
    "    os.remove(simulation.output_file)\n",
    "    \n",
    "simulation.run(n_steps, dt)"
   ]
  },
  {
   "cell_type": "code",
   "execution_count": 36,
   "metadata": {},
   "outputs": [],
   "source": [
    "def plot_rdf(trajfile):\n",
    "    traj = readdy.Trajectory(trajfile)\n",
    "    _, bin_centers, distribution = traj.read_observable_rdf()\n",
    "    mean_distribution = np.mean(distribution, axis=0)\n",
    "    err_distribution = np.std(distribution, axis=0) / np.sqrt(len(distribution))\n",
    "    plt.errorbar(bin_centers, mean_distribution, yerr=err_distribution)"
   ]
  },
  {
   "cell_type": "code",
   "execution_count": 37,
   "metadata": {},
   "outputs": [
    {
     "data": {
      "image/png": "[encoded data removed]",
      "text/plain": [
       "<Figure size 432x288 with 1 Axes>"
      ]
     },
     "metadata": {
      "needs_background": "light"
     },
     "output_type": "display_data"
    }
   ],
   "source": [
    "plot_rdf(os.path.join(data_dir, \"crowded_rdf.h5\"))\n",
    "plot_rdf(os.path.join(data_dir, \"free_rdf.h5\"))"
   ]
  },
  {
   "cell_type": "markdown",
   "metadata": {},
   "source": [
    "Familiarize with the concept of $g(r)$"
   ]
  }
 ],
 "metadata": {
  "kernelspec": {
   "display_name": "Python 3",
   "language": "python",
   "name": "python3"
  },
  "language_info": {
   "codemirror_mode": {
    "name": "ipython",
    "version": 3
   },
   "file_extension": ".py",
   "mimetype": "text/x-python",
   "name": "python",
   "nbconvert_exporter": "python",
   "pygments_lexer": "ipython3",
   "version": "3.7.3"
  }
 },
 "nbformat": 4,
 "nbformat_minor": 2
}
