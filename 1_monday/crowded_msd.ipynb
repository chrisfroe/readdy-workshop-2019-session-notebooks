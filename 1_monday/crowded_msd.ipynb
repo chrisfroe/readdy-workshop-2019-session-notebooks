{
 "cells": [
  {
   "cell_type": "markdown",
   "metadata": {},
   "source": [
    "## mean squared displacement in crowded system"
   ]
  },
  {
   "cell_type": "code",
   "execution_count": 44,
   "metadata": {},
   "outputs": [],
   "source": [
    "import os\n",
    "import numpy as np\n",
    "import matplotlib.pyplot as plt\n",
    "from tqdm import tqdm_notebook as tqdm\n",
    "import readdy"
   ]
  },
  {
   "cell_type": "code",
   "execution_count": 98,
   "metadata": {},
   "outputs": [],
   "source": [
    "crowded = False\n",
    "name = \"crowded_msd\" if crowded else \"free_msd\"\n",
    "\n",
    "n_particles = 1000\n",
    "origin = np.array([-9.,-9.,-9.])\n",
    "extent = np.array([18.,18.,18.])\n",
    "\n",
    "data_dir = \"/home/chris/workspace/data/workshop\"\n",
    "out_file = os.path.join(data_dir, f\"{name}.h5\")\n",
    "checkpoint_dir = os.path.join(data_dir, f\"ckpts_{name}\")\n",
    "n_steps = 20000\n",
    "dt = 1e-2"
   ]
  },
  {
   "cell_type": "code",
   "execution_count": 99,
   "metadata": {},
   "outputs": [],
   "source": [
    "system = readdy.ReactionDiffusionSystem(\n",
    "    [20.,20.,20.], \n",
    "    periodic_boundary_conditions=[False, False, False],\n",
    "    unit_system=None)\n",
    "\n",
    "system.add_species(\"A\", 0.1)\n",
    "\n",
    "system.potentials.add_box(\"A\", 100., origin=origin, extent=extent)\n",
    "\n",
    "if crowded:\n",
    "    system.potentials.add_harmonic_repulsion(\"A\", \"A\", force_constant=100., interaction_distance=2.)"
   ]
  },
  {
   "cell_type": "code",
   "execution_count": 100,
   "metadata": {},
   "outputs": [
    {
     "name": "stderr",
     "output_type": "stream",
     "text": [
      "  1%|          | 18/2000 [00:00<00:11, 178.77it/s]"
     ]
    },
    {
     "name": "stdout",
     "output_type": "stream",
     "text": [
      "Configured kernel context with:\n",
      "--------------------------------\n",
      " - kBT = 1\n",
      " - periodic b.c. = (false, false, false)\n",
      " - box size = (20, 20, 20)\n",
      " - particle types:\n",
      "     *  particle type \"A\" with D=0.1\n",
      " - potentials of order 1:\n",
      "     * for type \"A\"\n",
      "         * Box potential with origin=(-9, -9, -9), extent=(18, 18, 18), and force constant k=100\n",
      "\n",
      "Configured simulation loop with:\n",
      "--------------------------------\n",
      " - timeStep = 0.01\n",
      " - evaluateObservables = true\n",
      " - progressOutputStride = 10\n",
      " - context written to file = true\n",
      " - Performing actions:\n",
      "   * Initialize neighbor list? true\n",
      "   * Update neighbor list? true\n",
      "   * Clear neighbor list? true\n",
      "   * Integrate diffusion? true\n",
      "   * Calculate forces? true\n",
      "   * Handle reactions? true\n",
      "   * Handle topology reactions? true\n",
      " - Performing checkpointing:\n",
      "   * stride: 200\n",
      "   * base path: /home/chris/workspace/data/workshop/ckpts_free_msd\n",
      "   * checkpoint filename template: checkpoint_{}.h5\n",
      "   * maximal number saves: 10\n",
      "\n"
     ]
    },
    {
     "name": "stderr",
     "output_type": "stream",
     "text": [
      "100%|██████████| 2000/2000 [00:10<00:00, 184.30it/s]\n"
     ]
    }
   ],
   "source": [
    "simulation = system.simulation(\"SingleCPU\")\n",
    "simulation.output_file = out_file\n",
    "\n",
    "simulation.observe.particle_positions(stride=1)\n",
    "\n",
    "if os.path.exists(checkpoint_dir):\n",
    "    simulation.load_particles_from_latest_checkpoint(checkpoint_dir)\n",
    "else:\n",
    "    init_pos = np.random.uniform(size=(n_particles, 3)) * extent + origin\n",
    "    simulation.add_particles(\"A\", init_pos)\n",
    "\n",
    "# this also creates the directory, if it does not exist\n",
    "simulation.make_checkpoints(n_steps//100, output_directory=checkpoint_dir, max_n_saves=10)\n",
    "\n",
    "if os.path.exists(simulation.output_file):\n",
    "    os.remove(simulation.output_file)\n",
    "    \n",
    "simulation.run(n_steps, dt)"
   ]
  },
  {
   "cell_type": "code",
   "execution_count": 101,
   "metadata": {},
   "outputs": [],
   "source": [
    "traj = readdy.Trajectory(out_file)"
   ]
  },
  {
   "cell_type": "markdown",
   "metadata": {},
   "source": [
    " Calculate MSD:\n",
    " 1. Convert positions list into numpy array (TxNx3)\n",
    " 2. From every particles position subtract the initial position\n",
    " 3. Square this\n",
    " 4. Average over particles"
   ]
  },
  {
   "cell_type": "code",
   "execution_count": 103,
   "metadata": {
    "scrolled": true
   },
   "outputs": [
    {
     "data": {
      "application/vnd.jupyter.widget-view+json": {
       "model_id": "e1102faf90a245c7b89ef80a1439512d",
       "version_major": 2,
       "version_minor": 0
      },
      "text/plain": [
       "HBox(children=(IntProgress(value=0, max=20001), HTML(value='')))"
      ]
     },
     "metadata": {},
     "output_type": "display_data"
    },
    {
     "name": "stdout",
     "output_type": "stream",
     "text": [
      "\n"
     ]
    }
   ],
   "source": [
    "times, positions = traj.read_observable_particle_positions()\n",
    "\n",
    "# 1\n",
    "T = len(positions)\n",
    "N = len(positions[0])\n",
    "pos = np.zeros(shape=(T, N, 3))\n",
    "for t in tqdm(range(T)):\n",
    "    for n in range(N):\n",
    "        pos[t, n, 0] = positions[t][n][0]\n",
    "        pos[t, n, 1] = positions[t][n][1]\n",
    "        pos[t, n, 2] = positions[t][n][2]\n",
    "\n",
    "# 2\n",
    "difference = pos - pos[0]\n",
    "\n",
    "# 3\n",
    "squared_displacements = np.sum(difference * difference, axis=2)  # sum over coordinates, per particle per timestep\n",
    "\n",
    "# 4\n",
    "squared_displacements = squared_displacements.transpose()  # T x N -> N x T\n",
    "mean = np.mean(squared_displacements, axis=0)\n",
    "\n",
    "std_dev = np.std(squared_displacements, axis=0)\n",
    "std_err = np.std(squared_displacements, axis=0) / np.sqrt(len(squared_displacements))"
   ]
  },
  {
   "cell_type": "code",
   "execution_count": 104,
   "metadata": {},
   "outputs": [
    {
     "data": {
      "image/png": "[encoded data removed]",
      "text/plain": [
       "<Figure size 432x288 with 1 Axes>"
      ]
     },
     "metadata": {
      "needs_background": "light"
     },
     "output_type": "display_data"
    }
   ],
   "source": [
    "plt.plot(times, mean)\n",
    "plt.xscale(\"log\")\n",
    "plt.yscale(\"log\")"
   ]
  },
  {
   "cell_type": "code",
   "execution_count": 105,
   "metadata": {},
   "outputs": [],
   "source": [
    "if crowded:\n",
    "    times_crowded = times\n",
    "    mean_crowded = mean\n",
    "else:\n",
    "    times_free = times\n",
    "    mean_free = mean"
   ]
  },
  {
   "cell_type": "code",
   "execution_count": 107,
   "metadata": {},
   "outputs": [
    {
     "data": {
      "text/plain": [
       "<matplotlib.legend.Legend at 0x7f88c83adf98>"
      ]
     },
     "execution_count": 107,
     "metadata": {},
     "output_type": "execute_result"
    },
    {
     "data": {
      "image/png": "[encoded data removed]",
      "text/plain": [
       "<Figure size 432x288 with 1 Axes>"
      ]
     },
     "metadata": {
      "needs_background": "light"
     },
     "output_type": "display_data"
    }
   ],
   "source": [
    "plt.plot(times_free, mean_free, label=\"free diffusion\")\n",
    "plt.plot(times_crowded, mean_crowded, label=\"crowded diffusion\")\n",
    "plt.plot(times_free, 6.*0.1*times_free*dt, label=r\"$6Dt$\")\n",
    "plt.xscale(\"log\")\n",
    "plt.yscale(\"log\")\n",
    "plt.legend()"
   ]
  },
  {
   "cell_type": "markdown",
   "metadata": {},
   "source": [
    "- initially all show normal diffusion with self diffusion coefficient $D$\n",
    "- crowded shows subdiffusion (lower exponent than 2) on intermediate timescales, while free diffusion is still normal diffusion\n",
    "- crowded shows normal diffusion with reduced diffusion coefficient\n",
    "- all curves must saturate, since the box is closed and not periodic"
   ]
  },
  {
   "cell_type": "code",
   "execution_count": null,
   "metadata": {},
   "outputs": [],
   "source": []
  }
 ],
 "metadata": {
  "kernelspec": {
   "display_name": "Python 3",
   "language": "python",
   "name": "python3"
  },
  "language_info": {
   "codemirror_mode": {
    "name": "ipython",
    "version": 3
   },
   "file_extension": ".py",
   "mimetype": "text/x-python",
   "name": "python",
   "nbconvert_exporter": "python",
   "pygments_lexer": "ipython3",
   "version": "3.7.3"
  }
 },
 "nbformat": 4,
 "nbformat_minor": 2
}
