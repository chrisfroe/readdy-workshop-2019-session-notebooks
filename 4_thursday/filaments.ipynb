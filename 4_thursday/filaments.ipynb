{
 "cells": [
  {
   "cell_type": "code",
   "execution_count": 2,
   "metadata": {},
   "outputs": [],
   "source": [
    "import os\n",
    "import numpy as np\n",
    "import matplotlib.pyplot as plt\n",
    "import readdy"
   ]
  },
  {
   "cell_type": "code",
   "execution_count": 3,
   "metadata": {},
   "outputs": [],
   "source": [
    "data_dir = \"/home/chris/workspace/data/workshop/filaments\"\n",
    "out_file = os.path.join(data_dir, \"filaments.h5\")"
   ]
  },
  {
   "cell_type": "code",
   "execution_count": 20,
   "metadata": {},
   "outputs": [],
   "source": [
    "system = readdy.ReactionDiffusionSystem(\n",
    "    box_size=[20., 20., 20.], \n",
    "    periodic_boundary_conditions=[True, True, True],\n",
    "    unit_system=None)\n",
    "\n",
    "system.add_species(\"substrate\", 0.1)\n",
    "system.add_topology_species(\"head\", 0.1)\n",
    "system.add_topology_species(\"core\", 0.1)\n",
    "system.add_topology_species(\"tail\", 0.1)\n",
    "\n",
    "system.topologies.add_type(\"filament\")\n",
    "\n",
    "system.topologies.configure_harmonic_bond(\"head\", \"core\", force_constant=100, length=1.)\n",
    "system.topologies.configure_harmonic_bond(\"core\", \"core\", force_constant=100, length=1.)\n",
    "system.topologies.configure_harmonic_bond(\"core\", \"tail\", force_constant=100, length=1.)\n",
    "\n",
    "triplets = [\n",
    "    (\"head\", \"core\", \"core\"),\n",
    "    (\"core\", \"core\", \"core\"),\n",
    "    (\"core\", \"core\", \"tail\"),\n",
    "    (\"head\", \"core\", \"tail\")\n",
    "]\n",
    "for (t1, t2, t3) in triplets:\n",
    "    system.topologies.configure_harmonic_angle(\n",
    "        t1, t2, t3, force_constant=50., \n",
    "        equilibrium_angle=180. / 180. * np.pi)\n",
    "\n",
    "\n",
    "system.topologies.add_spatial_reaction(\n",
    "    \"attach: filament(head) + (substrate) -> filament(core--head)\",\n",
    "    rate=5.0, radius=1.5\n",
    ")\n",
    "\n",
    "def rate_function(topology):\n",
    "    \"\"\"\n",
    "    if the topology has at least (head, core, tail)\n",
    "    the tail shall be removed with a fixed probability per time\n",
    "    \"\"\"\n",
    "    vertices = topology.get_graph().get_vertices()\n",
    "    if len(vertices) > 3:\n",
    "        return 0.05\n",
    "    else:\n",
    "        return 0.\n",
    "\n",
    "def reaction_function(topology):\n",
    "    \"\"\"\n",
    "    find the tail and remove it,\n",
    "    and make the adjacent core particle the new tail\n",
    "    \"\"\"\n",
    "    recipe = readdy.StructuralReactionRecipe(topology)\n",
    "    vertices = topology.get_graph().get_vertices()\n",
    "\n",
    "    tail_idx = None\n",
    "    adjacent_core_idx = None\n",
    "    for v in vertices:\n",
    "        if topology.particle_type_of_vertex(v) == \"tail\":\n",
    "            adjacent_core_idx = v.neighbors()[0].get().particle_index\n",
    "            tail_idx = v.particle_index\n",
    "\n",
    "    recipe.separate_vertex(tail_idx)\n",
    "    recipe.change_particle_type(tail_idx, \"substrate\")\n",
    "    recipe.change_particle_type(adjacent_core_idx, \"tail\")\n",
    "\n",
    "    return recipe\n",
    "\n",
    "\n",
    "#system.topologies.add_structural_reaction(\"detach\", \"filament\", reaction_function=reaction_function, \n",
    "#                                          rate_function=rate_function)"
   ]
  },
  {
   "cell_type": "code",
   "execution_count": 21,
   "metadata": {},
   "outputs": [],
   "source": [
    "simulation = system.simulation(\"SingleCPU\")"
   ]
  },
  {
   "cell_type": "code",
   "execution_count": 22,
   "metadata": {},
   "outputs": [],
   "source": [
    "simulation.output_file = out_file\n",
    "simulation.record_trajectory(stride=100)\n",
    "simulation.observe.topologies(stride=100)"
   ]
  },
  {
   "cell_type": "code",
   "execution_count": 23,
   "metadata": {},
   "outputs": [],
   "source": [
    "init_top_pos = np.array([\n",
    "    [ 1. ,0. ,0.],\n",
    "    [ 0. ,0. ,0.],\n",
    "    [-1. ,0. ,0.]\n",
    "])\n",
    "top = simulation.add_topology(\"filament\", [\"head\", \"core\", \"tail\"], init_top_pos)\n",
    "top.get_graph().add_edge(0, 1)\n",
    "top.get_graph().add_edge(1, 2)"
   ]
  },
  {
   "cell_type": "code",
   "execution_count": 24,
   "metadata": {},
   "outputs": [],
   "source": [
    "n_substrate = 300\n",
    "origin = np.array([-10., -10., -10.])\n",
    "extent = np.array([20., 20., 20.])\n",
    "simulation.add_particles(\"substrate\", positions=np.random.uniform(size=(n_substrate,3)) * extent + origin)"
   ]
  },
  {
   "cell_type": "code",
   "execution_count": 25,
   "metadata": {},
   "outputs": [
    {
     "name": "stderr",
     "output_type": "stream",
     "text": [
      "  0%|          | 50/40000 [00:00<01:20, 496.59it/s]"
     ]
    },
    {
     "name": "stdout",
     "output_type": "stream",
     "text": [
      "Configured kernel context with:\n",
      "--------------------------------\n",
      " - kBT = 1\n",
      " - periodic b.c. = (true, true, true)\n",
      " - box size = (20, 20, 20)\n",
      " - particle types:\n",
      "     * Topology particle type \"tail\" with D=0.1\n",
      "     * Topology particle type \"core\" with D=0.1\n",
      "     *  particle type \"substrate\" with D=0.1\n",
      "     * Topology particle type \"head\" with D=0.1\n",
      " - topology potential configuration:\n",
      "     - bonds (3):\n",
      "         - Bonds for particle types core and tail:\n",
      "             * Harmonic bond with force constant 100 and length 1\n",
      "         - Bonds for particle types head and core:\n",
      "             * Harmonic bond with force constant 100 and length 1\n",
      "         - Bonds for particle types core and core:\n",
      "             * Harmonic bond with force constant 100 and length 1\n",
      "     - angles (4):\n",
      "             * Harmonic angle with force constant 50 and equilibrium angle 3.14159\n",
      "             * Harmonic angle with force constant 50 and equilibrium angle 3.14159\n",
      "             * Harmonic angle with force constant 50 and equilibrium angle 3.14159\n",
      "             * Harmonic angle with force constant 50 and equilibrium angle 3.14159\n",
      " - topology types:\n",
      "     * topology type \"filament\" with 0 structural reactions\n",
      " - spatial topology reactions:\n",
      "     * Topology-particle fusion reaction \"attach: filament(head) + (substrate) -> filament(core--head)\"\n",
      "\n",
      "Configured simulation loop with:\n",
      "--------------------------------\n",
      " - timeStep = 0.005\n",
      " - evaluateObservables = true\n",
      " - progressOutputStride = 10\n",
      " - context written to file = true\n",
      " - Performing actions:\n",
      "   * Initialize neighbor list? true\n",
      "   * Update neighbor list? true\n",
      "   * Clear neighbor list? true\n",
      "   * Integrate diffusion? true\n",
      "   * Calculate forces? true\n",
      "   * Handle reactions? true\n",
      "   * Handle topology reactions? true\n",
      "\n"
     ]
    },
    {
     "name": "stderr",
     "output_type": "stream",
     "text": [
      "100%|██████████| 40000/40000 [01:20<00:00, 497.40it/s]\n"
     ]
    }
   ],
   "source": [
    "if os.path.exists(simulation.output_file):\n",
    "    os.remove(simulation.output_file)\n",
    "\n",
    "simulation.run(400000, 5e-3)"
   ]
  },
  {
   "cell_type": "code",
   "execution_count": 26,
   "metadata": {},
   "outputs": [
    {
     "name": "stderr",
     "output_type": "stream",
     "text": [
      "/home/chris/miniconda3/envs/tutorials/lib/python3.7/site-packages/h5py/_hl/dataset.py:313: H5pyDeprecationWarning: dataset.value has been deprecated. Use dataset[()] instead.\n",
      "  \"Use dataset[()] instead.\", H5pyDeprecationWarning)\n"
     ]
    }
   ],
   "source": [
    "traj = readdy.Trajectory(out_file)"
   ]
  },
  {
   "cell_type": "code",
   "execution_count": 27,
   "metadata": {},
   "outputs": [],
   "source": [
    "traj.convert_to_xyz(particle_radii={\"head\": 0.5, \"core\": 0.5, \"tail\": 0.5, \"substrate\": 0.5})"
   ]
  },
  {
   "cell_type": "code",
   "execution_count": 28,
   "metadata": {},
   "outputs": [
    {
     "name": "stdout",
     "output_type": "stream",
     "text": [
      "/home/chris/misc/vmd/lib/vmd/vmd_LINUXAMD64: /usr/lib/x86_64-linux-gnu/libGL.so.1: no version information available (required by /home/chris/misc/vmd/lib/vmd/vmd_LINUXAMD64)\r\n"
     ]
    }
   ],
   "source": [
    "!vmd -e /home/chris/workspace/data/workshop/filaments/filaments.h5.xyz.tcl > /dev/null"
   ]
  },
  {
   "cell_type": "code",
   "execution_count": 29,
   "metadata": {},
   "outputs": [],
   "source": [
    "# chain length\n",
    "times, topology_records = traj.read_observable_topologies()"
   ]
  },
  {
   "cell_type": "code",
   "execution_count": 30,
   "metadata": {},
   "outputs": [],
   "source": [
    "chain_length = [ len(tops[0].particles) for tops in topology_records ]"
   ]
  },
  {
   "cell_type": "code",
   "execution_count": 31,
   "metadata": {},
   "outputs": [
    {
     "data": {
      "text/plain": [
       "[<matplotlib.lines.Line2D at 0x7f24ae0e4d68>]"
      ]
     },
     "execution_count": 31,
     "metadata": {},
     "output_type": "execute_result"
    },
    {
     "data": {
      "image/png": "[encoded data removed]",
      "text/plain": [
       "<Figure size 432x288 with 1 Axes>"
      ]
     },
     "metadata": {
      "needs_background": "light"
     },
     "output_type": "display_data"
    }
   ],
   "source": [
    "plt.plot(times, chain_length)"
   ]
  },
  {
   "cell_type": "code",
   "execution_count": 32,
   "metadata": {},
   "outputs": [],
   "source": [
    "times = np.array(times)*5e-3\n",
    "chain_length = np.array(chain_length)"
   ]
  },
  {
   "cell_type": "code",
   "execution_count": 33,
   "metadata": {},
   "outputs": [
    {
     "name": "stdout",
     "output_type": "stream",
     "text": [
      "popt [2.20447653e+02 7.84070262e-04]\n",
      "pcov [[ 1.80730613e-01 -1.10059458e-06]\n",
      " [-1.10059458e-06  6.98557047e-12]]\n"
     ]
    },
    {
     "name": "stderr",
     "output_type": "stream",
     "text": [
      "/home/chris/miniconda3/envs/tutorials/lib/python3.7/site-packages/ipykernel_launcher.py:4: RuntimeWarning: overflow encountered in exp\n",
      "  after removing the cwd from sys.path.\n"
     ]
    },
    {
     "data": {
      "image/png": "[encoded data removed]",
      "text/plain": [
       "<Figure size 432x288 with 1 Axes>"
      ]
     },
     "metadata": {
      "needs_background": "light"
     },
     "output_type": "display_data"
    }
   ],
   "source": [
    "import scipy.optimize as so\n",
    "\n",
    "def func(t, a, b):\n",
    "    return a*(1. - np.exp(-b * t)) + 3.\n",
    "\n",
    "popt, pcov = so.curve_fit(func, times, chain_length)\n",
    "\n",
    "print(\"popt\", popt)\n",
    "print(\"pcov\", pcov)\n",
    "\n",
    "f = lambda t: func(t, popt[0], popt[1])\n",
    "\n",
    "#plt.figure(figsize=(4,3))\n",
    "plt.plot(times, chain_length, label=\"data\")\n",
    "plt.plot(times, f(times), label=r\"fit $f(t)=a(1-e^{-bt})+3$\")\n",
    "plt.xlabel(\"Time\")\n",
    "plt.ylabel(\"Filament length\")\n",
    "plt.legend()\n",
    "#plt.gcf().tight_layout()\n",
    "#plt.savefig(\"fusion_diff_\"+str(diff)+\".pdf\")\n",
    "plt.show()"
   ]
  },
  {
   "cell_type": "code",
   "execution_count": null,
   "metadata": {},
   "outputs": [],
   "source": []
  }
 ],
 "metadata": {
  "kernelspec": {
   "display_name": "Python 3",
   "language": "python",
   "name": "python3"
  },
  "language_info": {
   "codemirror_mode": {
    "name": "ipython",
    "version": 3
   },
   "file_extension": ".py",
   "mimetype": "text/x-python",
   "name": "python",
   "nbconvert_exporter": "python",
   "pygments_lexer": "ipython3",
   "version": "3.7.3"
  }
 },
 "nbformat": 4,
 "nbformat_minor": 2
}
