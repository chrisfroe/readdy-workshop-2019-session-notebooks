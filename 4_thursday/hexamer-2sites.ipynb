{
 "cells": [
  {
   "cell_type": "code",
   "execution_count": 1,
   "metadata": {},
   "outputs": [],
   "source": [
    "import os\n",
    "import numpy as np\n",
    "import matplotlib.pyplot as plt\n",
    "import pickle\n",
    "import readdy"
   ]
  },
  {
   "cell_type": "code",
   "execution_count": 2,
   "metadata": {},
   "outputs": [],
   "source": [
    "box = 25."
   ]
  },
  {
   "cell_type": "code",
   "execution_count": 3,
   "metadata": {},
   "outputs": [
    {
     "data": {
      "text/plain": [
       "111.81262477656978"
      ]
     },
     "execution_count": 3,
     "metadata": {},
     "output_type": "execute_result"
    }
   ],
   "source": [
    "np.arccos(-0.5 * np.cos(42./180.*np.pi)) * 180./np.pi"
   ]
  },
  {
   "cell_type": "code",
   "execution_count": 4,
   "metadata": {},
   "outputs": [],
   "source": [
    "# System of capsid proteins forming hexagons\"\"\"\n",
    "system = readdy.ReactionDiffusionSystem([box,box,box], unit_system=None)\n",
    "\n",
    "system.topologies.add_type(\"CA\")\n",
    "system.add_topology_species(\"core\", 0.1)\n",
    "system.add_topology_species(\"site\", 0.1)\n",
    "\n",
    "system.add_species(\"dummy\", 0.1)  # instantly decays\n",
    "system.reactions.add(\"dummydecay: dummy ->\", rate=1e12)\n",
    "\n",
    "angle_force_sites = 200.\n",
    "phi = 120. #111.8\n",
    "system.topologies.configure_harmonic_bond(\"core\", \"site\", force_constant=100, length=1.)\n",
    "system.topologies.configure_harmonic_bond(\"core\", \"core\", force_constant=100, length=2.)\n",
    "system.topologies.configure_harmonic_bond(\"site\", \"site\", force_constant=100, length=0.1)\n",
    "\n",
    "system.topologies.configure_harmonic_angle(\"site\", \"core\", \"site\", force_constant=angle_force_sites,\n",
    "                                           equilibrium_angle=120. / 180. * np.pi)\n",
    "system.topologies.configure_harmonic_angle(\"site\", \"core\", \"core\", force_constant=angle_force_sites,\n",
    "                                           equilibrium_angle=120. / 180. * np.pi)\n",
    "system.topologies.configure_harmonic_angle(\"core\", \"core\", \"core\", force_constant=angle_force_sites,\n",
    "                                           equilibrium_angle=120. / 180. * np.pi)\n",
    "\n",
    "dihedral_angle = 0.\n",
    "dihedral_force_constant = 200.\n",
    "system.topologies.configure_cosine_dihedral(\n",
    "    \"core\", \"core\", \"core\", \"core\", dihedral_force_constant, 1., dihedral_angle)\n",
    "system.topologies.configure_cosine_dihedral(\n",
    "    \"site\", \"core\", \"core\", \"core\", dihedral_force_constant, 1., dihedral_angle)\n",
    "system.topologies.configure_cosine_dihedral(\n",
    "    \"site\", \"core\", \"core\", \"site\", dihedral_force_constant, 1., dihedral_angle)\n",
    "\n",
    "system.potentials.add_harmonic_repulsion(\"core\", \"core\", force_constant=80., interaction_distance=2.)\n",
    "\n",
    "system.topologies.add_spatial_reaction(\n",
    "    \"attach: CA(site)+CA(site)->CA(site--site) [self=true]\", rate=10., radius=0.4) # 10, 0.5"
   ]
  },
  {
   "cell_type": "code",
   "execution_count": 5,
   "metadata": {},
   "outputs": [],
   "source": [
    "def clean_sites_rate_function(topology):\n",
    "    edges = topology.get_graph().get_edges()\n",
    "    vertices = topology.get_graph().get_vertices()\n",
    "\n",
    "    if len(vertices) > 3:\n",
    "        for e in edges:\n",
    "            v1_ref, v2_ref = e[0], e[1]\n",
    "            v1 = v1_ref.get()\n",
    "            v2 = v2_ref.get()\n",
    "            v1_type = topology.particle_type_of_vertex(v1)\n",
    "            v2_type = topology.particle_type_of_vertex(v2)\n",
    "            if v1_type == \"site\" and v2_type == \"site\":\n",
    "                return 1e12\n",
    "    else:\n",
    "        return 0.\n",
    "    return 0.\n",
    "\n",
    "def clean_sites_reaction_function(topology):\n",
    "\n",
    "    recipe = readdy.StructuralReactionRecipe(topology)\n",
    "    vertices = topology.get_graph().get_vertices()\n",
    "\n",
    "    def search_configuration():\n",
    "        # dfs for finding configuration core-site-site-core\n",
    "        for v1 in vertices:\n",
    "            if topology.particle_type_of_vertex(v1) == \"core\":\n",
    "                for v2_ref in v1.neighbors():\n",
    "                    v2 = v2_ref.get()\n",
    "                    if topology.particle_type_of_vertex(v2) == \"site\":\n",
    "                        for v3_ref in v2.neighbors():\n",
    "                            v3 = v3_ref.get()\n",
    "                            if v3.particle_index != v1.particle_index:\n",
    "                                if topology.particle_type_of_vertex(v3) == \"site\":\n",
    "                                    for v4_ref in v3.neighbors():\n",
    "                                        v4 = v4_ref.get()\n",
    "                                        if v4.particle_index != v2.particle_index:\n",
    "                                            if topology.particle_type_of_vertex(v4) == \"core\":\n",
    "                                                return v1.particle_index, v2.particle_index, v3.particle_index, v4.particle_index\n",
    "\n",
    "    core1_p_idx, site1_p_idx, site2_p_idx, core2_p_idx = search_configuration()\n",
    "\n",
    "    # find corresponding vertex indices from particle indices\n",
    "    core1_v_idx = None\n",
    "    site1_v_idx = None\n",
    "    site2_v_idx = None\n",
    "    core2_v_idx = None\n",
    "    for i, v in enumerate(vertices):\n",
    "        if v.particle_index == core1_p_idx and core1_v_idx is None:\n",
    "            core1_v_idx = i\n",
    "        elif v.particle_index == site1_p_idx and site1_v_idx is None:\n",
    "            site1_v_idx = i\n",
    "        elif v.particle_index == site2_p_idx and site2_v_idx is None:\n",
    "            site2_v_idx = i\n",
    "        elif v.particle_index == core2_p_idx and core2_v_idx is None:\n",
    "            core2_v_idx = i\n",
    "        else:\n",
    "            pass\n",
    "\n",
    "    if (core1_v_idx is not None) and (core2_v_idx is not None) and (site1_v_idx is not None) and (\n",
    "            site2_v_idx is not None):\n",
    "        recipe.add_edge(core1_v_idx, core2_v_idx)\n",
    "        recipe.separate_vertex(site1_v_idx)\n",
    "        recipe.separate_vertex(site2_v_idx)\n",
    "        recipe.change_particle_type(site1_v_idx, \"dummy\")\n",
    "        recipe.change_particle_type(site2_v_idx, \"dummy\")\n",
    "    else:\n",
    "        raise RuntimeError(\"core-site-site-core wasn't found\")\n",
    "\n",
    "    return recipe\n",
    "\n",
    "system.topologies.add_structural_reaction(\n",
    "    \"clean_sites\", topology_type=\"CA\", reaction_function=clean_sites_reaction_function,\n",
    "    rate_function=clean_sites_rate_function, raise_if_invalid=True, expect_connected=False)"
   ]
  },
  {
   "cell_type": "code",
   "execution_count": 6,
   "metadata": {},
   "outputs": [],
   "source": [
    "def generate_3d_rotation():\n",
    "    \"\"\"Generate a 3D random rotation matrix.\n",
    "    Returns:\n",
    "        np.matrix: A 3D rotation matrix.\n",
    "\n",
    "    See https://github.com/qobilidop/randrot/blob/master/randrot/__init__.py\n",
    "    \"\"\"\n",
    "    x1, x2, x3 = np.random.rand(3)\n",
    "    R = np.matrix([[np.cos(2 * np.pi * x1), np.sin(2 * np.pi * x1), 0],\n",
    "                   [-np.sin(2 * np.pi * x1), np.cos(2 * np.pi * x1), 0],\n",
    "                   [0, 0, 1]])\n",
    "    v = np.matrix([[np.cos(2 * np.pi * x2) * np.sqrt(x3)],\n",
    "                   [np.sin(2 * np.pi * x2) * np.sqrt(x3)],\n",
    "                   [np.sqrt(1 - x3)]])\n",
    "    H = np.eye(3) - 2 * v * v.T\n",
    "    M = -H * R\n",
    "    return M"
   ]
  },
  {
   "cell_type": "code",
   "execution_count": 7,
   "metadata": {},
   "outputs": [],
   "source": [
    "out_dir = \"/home/chris/workspace/data/workshop/hexamer\"\n",
    "out_file = os.path.join(out_dir, f\"hex2sites_observe.h5\")\n",
    "checkpoint_dir = os.path.join(out_dir, f\"hex2sites_observe\")\n",
    "\n",
    "n_steps = 500000\n",
    "dt = 0.005"
   ]
  },
  {
   "cell_type": "code",
   "execution_count": 46,
   "metadata": {},
   "outputs": [
    {
     "name": "stderr",
     "output_type": "stream",
     "text": [
      "  0%|          | 8/50000 [00:00<10:49, 76.93it/s]"
     ]
    },
    {
     "name": "stdout",
     "output_type": "stream",
     "text": [
      "Configured kernel context with:\n",
      "--------------------------------\n",
      " - kBT = 1\n",
      " - periodic b.c. = (true, true, true)\n",
      " - box size = (25, 25, 25)\n",
      " - particle types:\n",
      "     *  particle type \"dummy\" with D=0.1\n",
      "     * Topology particle type \"core\" with D=0.1\n",
      "     * Topology particle type \"site\" with D=0.1\n",
      " - potentials of order 2:\n",
      "     * for types \"core\" and \"core\"\n",
      "         * Harmonic repulsion with force constant k=80\n",
      " - unimolecular reactions:\n",
      "     * Decay dummy -> ø with a rate of 1e+12\n",
      " - topology potential configuration:\n",
      "     - bonds (3):\n",
      "         - Bonds for particle types site and site:\n",
      "             * Harmonic bond with force constant 100 and length 0.1\n",
      "         - Bonds for particle types core and site:\n",
      "             * Harmonic bond with force constant 100 and length 1\n",
      "         - Bonds for particle types core and core:\n",
      "             * Harmonic bond with force constant 100 and length 2\n",
      "     - angles (3):\n",
      "             * Harmonic angle with force constant 200 and equilibrium angle 2.0944\n",
      "             * Harmonic angle with force constant 200 and equilibrium angle 2.0944\n",
      "             * Harmonic angle with force constant 200 and equilibrium angle 2.0944\n",
      "     - torsions (3):\n",
      "             * Cosine-Dihedral with force constant 200, equilibrium angle 0 and multiplicity 1\n",
      "             * Cosine-Dihedral with force constant 200, equilibrium angle 0 and multiplicity 1\n",
      "             * Cosine-Dihedral with force constant 200, equilibrium angle 0 and multiplicity 1\n",
      " - topology types:\n",
      "     * topology type \"CA\" with 1 structural reactions\n",
      " - spatial topology reactions:\n",
      "     * Topology-topology fusion reaction \"attach: CA(site) + CA(site) -> CA(site--site) [self=true]\"\n",
      " - structural topology reactions:\n",
      "     - for topology type \"CA\" with 1 structural reactions:\n",
      "         * reaction with roll_back = false and create child topologies = true\n",
      "\n",
      "Configured simulation loop with:\n",
      "--------------------------------\n",
      " - timeStep = 0.005\n",
      " - evaluateObservables = true\n",
      " - progressOutputStride = 10\n",
      " - context written to file = true\n",
      " - Performing actions:\n",
      "   * Initialize neighbor list? true\n",
      "   * Update neighbor list? true\n",
      "   * Clear neighbor list? true\n",
      "   * Integrate diffusion? true\n",
      "   * Calculate forces? true\n",
      "   * Handle reactions? true\n",
      "   * Handle topology reactions? true\n",
      " - Performing checkpointing:\n",
      "   * stride: 5000\n",
      "   * base path: /home/chris/workspace/data/workshop/hexamer/hex2sites_observe\n",
      "   * checkpoint filename template: checkpoint_{}.h5\n",
      "   * maximal number saves: 10\n",
      "\n"
     ]
    },
    {
     "name": "stderr",
     "output_type": "stream",
     "text": [
      "100%|██████████| 50000/50000 [03:34<00:00, 232.92it/s]\n"
     ]
    }
   ],
   "source": [
    "sim = system.simulation(kernel=\"SingleCPU\")\n",
    "\n",
    "sim.output_file = out_file\n",
    "\n",
    "sim.record_trajectory(n_steps//5000)\n",
    "sim.observe.topologies(n_steps//5000)\n",
    "\n",
    "if os.path.exists(checkpoint_dir):\n",
    "    sim.load_particles_from_latest_checkpoint(checkpoint_dir)\n",
    "else:\n",
    "    # generate initial positions for patchy particles\n",
    "    number_ca = 150\n",
    "    for i in range(number_ca):\n",
    "        core = np.array([0., 0., 0.])\n",
    "        site1 = np.array([0., 0., 1.])\n",
    "        site2 = np.array([np.sin(np.pi * 60. / 180.), 0., - 1. * np.cos(np.pi * 60. / 180.)])\n",
    "        rot = generate_3d_rotation()\n",
    "\n",
    "        site1 = np.dot(rot, site1)\n",
    "        site2 = np.dot(rot, site2)\n",
    "\n",
    "        site1 = np.squeeze(np.asarray(site1))\n",
    "        site2 = np.squeeze(np.asarray(site2))\n",
    "\n",
    "        origin = np.array([-box / 2., -box / 2., -box / 2.]) + 2.\n",
    "        extent = np.array([box, box, box]) - 4.\n",
    "\n",
    "        translation = np.random.uniform(size=3) * extent + origin\n",
    "        core += translation\n",
    "        site1 += translation\n",
    "        site2 += translation\n",
    "\n",
    "        top = sim.add_topology(\"CA\", [\"site\", \"core\", \"site\"], np.array([site1, core, site2]))\n",
    "        top.get_graph().add_edge(0, 1)\n",
    "        top.get_graph().add_edge(1, 2)\n",
    "\n",
    "sim.make_checkpoints(n_steps // 100, output_directory=checkpoint_dir, max_n_saves=10)\n",
    "\n",
    "if os.path.exists(sim.output_file):\n",
    "    os.remove(sim.output_file)\n",
    "\n",
    "sim.run(n_steps, dt)"
   ]
  },
  {
   "cell_type": "code",
   "execution_count": 8,
   "metadata": {},
   "outputs": [
    {
     "name": "stderr",
     "output_type": "stream",
     "text": [
      "/home/chris/miniconda3/envs/tutorials/lib/python3.7/site-packages/h5py/_hl/dataset.py:313: H5pyDeprecationWarning: dataset.value has been deprecated. Use dataset[()] instead.\n",
      "  \"Use dataset[()] instead.\", H5pyDeprecationWarning)\n"
     ]
    }
   ],
   "source": [
    "traj_file = readdy.Trajectory(out_file)\n",
    "\n",
    "traj_file.convert_to_xyz(draw_box=True, particle_radii={\"core\":1.,\"site\":0.3, \"dummy\":0.1})"
   ]
  },
  {
   "cell_type": "code",
   "execution_count": 9,
   "metadata": {},
   "outputs": [],
   "source": [
    "times, topology_records = traj_file.read_observable_topologies()\n",
    "traj = traj_file.read()"
   ]
  },
  {
   "cell_type": "code",
   "execution_count": 16,
   "metadata": {},
   "outputs": [],
   "source": [
    "size_distribution = []\n",
    "bin_edges = np.arange(1,10,1)\n",
    "bin_centers = np.array([(bin_edges[i]+bin_edges[i+1])/2. for i in range(len(bin_edges)-1)])\n",
    "# for each time step\n",
    "for t, topologies in enumerate(topology_records):\n",
    "    current_sizes = []\n",
    "    for top in topologies:\n",
    "        s = 0\n",
    "        for v in top.particles:\n",
    "            if traj[t][v].type == \"core\":\n",
    "                s += 1\n",
    "        current_sizes.append(s)\n",
    "    size_hist, _ = np.histogram(current_sizes, bins=bin_edges)\n",
    "    size_hist *= bin_edges[:-1]\n",
    "    size_distribution.append(size_hist)\n",
    "size_distribution = np.array(size_distribution)"
   ]
  },
  {
   "cell_type": "code",
   "execution_count": 17,
   "metadata": {},
   "outputs": [
    {
     "data": {
      "image/png": "[encoded data removed]",
      "text/plain": [
       "<Figure size 432x288 with 1 Axes>"
      ]
     },
     "metadata": {
      "needs_background": "light"
     },
     "output_type": "display_data"
    }
   ],
   "source": [
    "xs = np.array(times) * dt\n",
    "ys = bin_centers\n",
    "X, Y = np.meshgrid(xs, ys-1)\n",
    "Z = (size_distribution).transpose()\n",
    "pcol = plt.pcolor(X, Y, Z, cmap=plt.cm.viridis_r)\n",
    "plt.xlabel(\"Time\")\n",
    "plt.ylabel(\"Degree of polymerization\")\n",
    "plt.title(\"Distribution of molecular mass\")\n",
    "plt.savefig('hex2sites_distr.pdf', bbox_inches='tight')"
   ]
  },
  {
   "cell_type": "markdown",
   "metadata": {},
   "source": [
    "Find closed circles only"
   ]
  },
  {
   "cell_type": "code",
   "execution_count": 14,
   "metadata": {},
   "outputs": [],
   "source": [
    "# here only find completely assembled structures, i.e. the size distribution of assemblies without open sites\n",
    "size_distribution_misfolded = []\n",
    "bin_edges = np.arange(1,10,1)\n",
    "bin_centers = np.array([(bin_edges[i]+bin_edges[i+1])/2. for i in range(len(bin_edges)-1)])\n",
    "# for each time step\n",
    "for t, topologies in enumerate(topology_records):\n",
    "    # gather average polymer length\n",
    "    current_sizes = []\n",
    "    for top in topologies:\n",
    "        s = 0\n",
    "        has_site = False\n",
    "        for v in top.particles:\n",
    "            if traj[t][v].type == \"core\":\n",
    "                s += 1\n",
    "            if traj[t][v].type == \"site\":\n",
    "                has_site = True\n",
    "        if not has_site:\n",
    "            current_sizes.append(s)\n",
    "    size_hist, _ = np.histogram(current_sizes, bins=bin_edges)\n",
    "    size_hist *= bin_edges[:-1]\n",
    "    size_distribution_misfolded.append(size_hist)\n",
    "size_distribution_misfolded = np.array(size_distribution_misfolded)"
   ]
  },
  {
   "cell_type": "code",
   "execution_count": 15,
   "metadata": {},
   "outputs": [
    {
     "data": {
      "image/png": "[encoded data removed]",
      "text/plain": [
       "<Figure size 432x288 with 1 Axes>"
      ]
     },
     "metadata": {
      "needs_background": "light"
     },
     "output_type": "display_data"
    }
   ],
   "source": [
    "xs = np.array(times) * dt\n",
    "ys = bin_centers\n",
    "X, Y = np.meshgrid(xs, ys-1)\n",
    "Z = (size_distribution_misfolded).transpose()\n",
    "pcol = plt.pcolor(X, Y, Z, cmap=plt.cm.viridis_r)\n",
    "plt.xlabel(\"Time\")\n",
    "plt.ylabel(\"Degree of polymerization\")\n",
    "plt.title(\"Distribution of molecular mass\")\n",
    "plt.savefig('hex2sites_distr_assembled.pdf', bbox_inches='tight')"
   ]
  },
  {
   "cell_type": "code",
   "execution_count": null,
   "metadata": {},
   "outputs": [],
   "source": []
  },
  {
   "cell_type": "code",
   "execution_count": null,
   "metadata": {},
   "outputs": [],
   "source": []
  },
  {
   "cell_type": "code",
   "execution_count": null,
   "metadata": {},
   "outputs": [],
   "source": []
  },
  {
   "cell_type": "code",
   "execution_count": null,
   "metadata": {},
   "outputs": [],
   "source": []
  },
  {
   "cell_type": "code",
   "execution_count": null,
   "metadata": {},
   "outputs": [],
   "source": []
  },
  {
   "cell_type": "code",
   "execution_count": null,
   "metadata": {},
   "outputs": [],
   "source": []
  },
  {
   "cell_type": "code",
   "execution_count": null,
   "metadata": {},
   "outputs": [],
   "source": []
  },
  {
   "cell_type": "code",
   "execution_count": null,
   "metadata": {},
   "outputs": [],
   "source": []
  },
  {
   "cell_type": "code",
   "execution_count": null,
   "metadata": {},
   "outputs": [],
   "source": []
  },
  {
   "cell_type": "code",
   "execution_count": null,
   "metadata": {},
   "outputs": [],
   "source": [
    "times, topology_records = traj_file.read_observable_topologies()\n",
    "traj = traj_file.read()"
   ]
  },
  {
   "cell_type": "code",
   "execution_count": null,
   "metadata": {},
   "outputs": [],
   "source": [
    "for t, topologies in enumerate(topology_records):\n",
    "    pass\n",
    "    for top in topologies:\n",
    "        pass\n",
    "        for v in top.particles:\n",
    "            print(traj[t][v].type)"
   ]
  },
  {
   "cell_type": "code",
   "execution_count": null,
   "metadata": {},
   "outputs": [],
   "source": []
  },
  {
   "cell_type": "code",
   "execution_count": null,
   "metadata": {},
   "outputs": [],
   "source": []
  },
  {
   "cell_type": "code",
   "execution_count": null,
   "metadata": {},
   "outputs": [],
   "source": []
  },
  {
   "cell_type": "code",
   "execution_count": null,
   "metadata": {},
   "outputs": [],
   "source": []
  }
 ],
 "metadata": {
  "kernelspec": {
   "display_name": "Python 3",
   "language": "python",
   "name": "python3"
  },
  "language_info": {
   "codemirror_mode": {
    "name": "ipython",
    "version": 3
   },
   "file_extension": ".py",
   "mimetype": "text/x-python",
   "name": "python",
   "nbconvert_exporter": "python",
   "pygments_lexer": "ipython3",
   "version": "3.7.3"
  }
 },
 "nbformat": 4,
 "nbformat_minor": 2
}
