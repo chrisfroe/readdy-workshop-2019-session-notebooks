{
 "cells": [
  {
   "cell_type": "code",
   "execution_count": 1,
   "metadata": {},
   "outputs": [],
   "source": [
    "import os\n",
    "import numpy as np\n",
    "import matplotlib.pyplot as plt\n",
    "import scipy.optimize as so\n",
    "import time\n",
    "import multiprocessing as mp\n",
    "from tqdm import tqdm_notebook as tqdm\n",
    "import readdy"
   ]
  },
  {
   "cell_type": "markdown",
   "metadata": {},
   "source": [
    "## Task 1\n",
    "Simulate given FJC and FRC models and determine $l_p$"
   ]
  },
  {
   "cell_type": "code",
   "execution_count": 2,
   "metadata": {},
   "outputs": [],
   "source": [
    "chain_type = \"frc\" # fjc or frc"
   ]
  },
  {
   "cell_type": "code",
   "execution_count": 3,
   "metadata": {},
   "outputs": [],
   "source": [
    "out_dir = \"/home/chris/workspace/data/workshop/polymer_solution\"\n",
    "out_file = os.path.join(out_dir, f\"polymer_{chain_type}.h5\")\n",
    "checkpoint_dir = os.path.join(out_dir, f\"ckpts_{chain_type}\")"
   ]
  },
  {
   "cell_type": "code",
   "execution_count": 4,
   "metadata": {},
   "outputs": [],
   "source": [
    "bond_length = 0.48\n",
    "chain_length = 50\n",
    "n_steps = 2000000\n",
    "dt = 0.005"
   ]
  },
  {
   "cell_type": "code",
   "execution_count": 5,
   "metadata": {},
   "outputs": [],
   "source": [
    "system = readdy.ReactionDiffusionSystem(\n",
    "    box_size=[102., 102., 102.],\n",
    "    periodic_boundary_conditions=[False, False, False],\n",
    "    unit_system=None)\n",
    "\n",
    "system.add_topology_species(\"monomer\", 0.1)\n",
    "\n",
    "system.topologies.add_type(\"polymer\")\n",
    "\n",
    "origin = np.array([-50., -50., -50.])\n",
    "extent = np.array([100., 100., 100.])\n",
    "\n",
    "system.potentials.add_box(\"monomer\", force_constant=50., origin=origin, extent=extent)\n",
    "\n",
    "system.topologies.configure_harmonic_bond(\"monomer\", \"monomer\", force_constant=50., length=bond_length)\n",
    "if chain_type==\"frc\":\n",
    "    system.topologies.configure_harmonic_angle(\n",
    "        \"monomer\", \"monomer\", \"monomer\", force_constant=20.,\n",
    "        equilibrium_angle=2.530727415391778)"
   ]
  },
  {
   "cell_type": "code",
   "execution_count": 10,
   "metadata": {},
   "outputs": [
    {
     "name": "stderr",
     "output_type": "stream",
     "text": [
      "  0%|          | 785/200000 [00:00<00:52, 3820.33it/s]"
     ]
    },
    {
     "name": "stdout",
     "output_type": "stream",
     "text": [
      "Configured kernel context with:\n",
      "--------------------------------\n",
      " - kBT = 1\n",
      " - periodic b.c. = (false, false, false)\n",
      " - box size = (102, 102, 102)\n",
      " - particle types:\n",
      "     * Topology particle type \"monomer\" with D=0.1\n",
      " - potentials of order 1:\n",
      "     * for type \"monomer\"\n",
      "         * Box potential with origin=(-50, -50, -50), extent=(100, 100, 100), and force constant k=50\n",
      " - topology potential configuration:\n",
      "     - bonds (1):\n",
      "         - Bonds for particle types monomer and monomer:\n",
      "             * Harmonic bond with force constant 50 and length 0.48\n",
      "     - angles (1):\n",
      "             * Harmonic angle with force constant 20 and equilibrium angle 2.53073\n",
      " - topology types:\n",
      "     * topology type \"polymer\" with 0 structural reactions\n",
      "\n",
      "Configured simulation loop with:\n",
      "--------------------------------\n",
      " - timeStep = 0.005\n",
      " - evaluateObservables = true\n",
      " - progressOutputStride = 10\n",
      " - context written to file = true\n",
      " - Performing actions:\n",
      "   * Initialize neighbor list? true\n",
      "   * Update neighbor list? true\n",
      "   * Clear neighbor list? true\n",
      "   * Integrate diffusion? true\n",
      "   * Calculate forces? true\n",
      "   * Handle reactions? true\n",
      "   * Handle topology reactions? true\n",
      " - Performing checkpointing:\n",
      "   * stride: 20000\n",
      "   * base path: /home/chris/workspace/data/workshop/polymer_solution/ckpts_frc\n",
      "   * checkpoint filename template: checkpoint_{}.h5\n",
      "   * maximal number saves: 10\n",
      "\n"
     ]
    },
    {
     "name": "stderr",
     "output_type": "stream",
     "text": [
      "100%|██████████| 200000/200000 [00:49<00:00, 4054.72it/s]\n"
     ]
    }
   ],
   "source": [
    "sim = system.simulation(\"SingleCPU\")\n",
    "\n",
    "sim.output_file = out_file\n",
    "\n",
    "sim.record_trajectory(stride=1000)\n",
    "sim.observe.particle_positions(stride=1000)\n",
    "\n",
    "if os.path.exists(checkpoint_dir):\n",
    "    # load checkpoint\n",
    "    sim.load_particles_from_latest_checkpoint(checkpoint_dir)\n",
    "else:\n",
    "    # new positions\n",
    "    init_pos = [np.zeros(3)]\n",
    "    for i in range(1, chain_length):\n",
    "        displacement = np.random.normal(size=(3))\n",
    "        displacement /= np.sqrt(np.sum(displacement * displacement))\n",
    "        displacement *= bond_length\n",
    "        init_pos.append(init_pos[i - 1] + displacement)\n",
    "    init_pos = np.array(init_pos)\n",
    "\n",
    "    # subtract center of mass\n",
    "    init_pos -= np.mean(init_pos, axis=0)\n",
    "\n",
    "    top = sim.add_topology(\"polymer\", len(init_pos) * [\"monomer\"], init_pos)\n",
    "    for i in range(1, chain_length):\n",
    "        top.get_graph().add_edge(i - 1, i)\n",
    "\n",
    "# this also creates the directory\n",
    "sim.make_checkpoints(n_steps // 100, output_directory=checkpoint_dir, max_n_saves=10)\n",
    "\n",
    "if os.path.exists(sim.output_file):\n",
    "    os.remove(sim.output_file)\n",
    "\n",
    "sim.run(n_steps, dt)\n",
    "\n",
    "traj = readdy.Trajectory(out_file)\n",
    "traj.convert_to_xyz(particle_radii={\"monomer\": bond_length / 2.}, draw_box=True)"
   ]
  },
  {
   "cell_type": "code",
   "execution_count": 21,
   "metadata": {},
   "outputs": [],
   "source": [
    "traj = readdy.Trajectory(out_file)\n",
    "\n",
    "times, positions = traj.read_observable_particle_positions()\n",
    "\n",
    "# convert to numpy array\n",
    "T = len(positions)\n",
    "N = len(positions[0])\n",
    "pos = np.zeros(shape=(T, N, 3))\n",
    "for t in range(T):\n",
    "    for n in range(N):\n",
    "        pos[t, n, 0] = positions[t][n][0]\n",
    "        pos[t, n, 1] = positions[t][n][1]\n",
    "        pos[t, n, 2] = positions[t][n][2]"
   ]
  },
  {
   "cell_type": "code",
   "execution_count": 22,
   "metadata": {},
   "outputs": [
    {
     "data": {
      "image/png": "[encoded data removed]",
      "text/plain": [
       "<Figure size 432x288 with 1 Axes>"
      ]
     },
     "metadata": {
      "needs_background": "light"
     },
     "output_type": "display_data"
    }
   ],
   "source": [
    "# calculate radius of gyration\n",
    "mean_pos = np.mean(pos, axis=1)\n",
    "\n",
    "difference = np.zeros_like(pos)\n",
    "for i in range(chain_length):\n",
    "    difference[:, i] = pos[:, i] - mean_pos\n",
    "\n",
    "assert difference.shape == (T, N, 3)\n",
    "\n",
    "# square and sum over coordinates (axis=2)\n",
    "squared_radius_g = np.sum(difference * difference, axis=2)\n",
    "\n",
    "assert squared_radius_g.shape == (T, N)\n",
    "\n",
    "# average over particles (axis=1)\n",
    "squared_radius_g = np.mean(squared_radius_g, axis=1)\n",
    "\n",
    "radius_g = np.sqrt(squared_radius_g)\n",
    "\n",
    "assert radius_g.shape == times.shape == (T,)\n",
    "\n",
    "plt.plot(times * dt, radius_g)\n",
    "\n",
    "plt.show()"
   ]
  },
  {
   "cell_type": "code",
   "execution_count": null,
   "metadata": {},
   "outputs": [],
   "source": [
    "assert pos.shape == (T, N, 3)\n",
    "\n",
    "# calculate segments\n",
    "segments = pos[:, 1:, :] - pos[:, :-1, :]\n",
    "\n",
    "# normalize segments\n",
    "#segments = (segments.T / np.sqrt(np.sum(np.power(segments, 2.), axis=2)).T).T"
   ]
  },
  {
   "cell_type": "code",
   "execution_count": null,
   "metadata": {},
   "outputs": [],
   "source": [
    "# calculate segment correlations\n",
    "n_beads = pos.shape[1]\n",
    "separations = np.arange(0, n_beads - 1, 1)\n",
    "corrs = [[] for _ in range(n_beads - 1)]\n",
    "for i in range(n_beads - 1):\n",
    "    for j in range(i, n_beads - 1):\n",
    "        corrs[j - i].append(np.mean(np.sum(segments[:, i, :] * segments[:, j, :], axis=1)))\n",
    "\n",
    "corrs = np.array([np.mean(c) for c in corrs])"
   ]
  },
  {
   "cell_type": "code",
   "execution_count": 23,
   "metadata": {},
   "outputs": [
    {
     "name": "stdout",
     "output_type": "stream",
     "text": [
      "l_p/l 4.634373516835196\n",
      "l_p 2.224499288080894\n"
     ]
    },
    {
     "data": {
      "image/png": "[encoded data removed]",
      "text/plain": [
       "<Figure size 432x288 with 1 Axes>"
      ]
     },
     "metadata": {
      "needs_background": "light"
     },
     "output_type": "display_data"
    }
   ],
   "source": [
    "plt.plot(separations, corrs)\n",
    "\n",
    "def f(s, a):\n",
    "    return corrs[0] * np.exp(- a * s)\n",
    "\n",
    "# fit exponential decay to bond vector correlation\n",
    "popt, pcov = so.curve_fit(f, separations, corrs)\n",
    "l_p = 1. / popt[0]\n",
    "\n",
    "plt.plot(separations, f(separations, popt[0]))\n",
    "plt.xlabel(\"Distance of segments\")\n",
    "plt.ylabel(\"Correlation of segments\")\n",
    "print(\"l_p/l\", 1./popt[0])\n",
    "print(\"l_p\", bond_length/popt[0])"
   ]
  },
  {
   "cell_type": "markdown",
   "metadata": {},
   "source": [
    "FJC -> Correlation immediately drops to zero, no correlation of segments $l_p\\approx 0$\n",
    "\n",
    "FRC -> Longer correlation $l_p\\approx 2$"
   ]
  },
  {
   "cell_type": "markdown",
   "metadata": {},
   "source": [
    "### Task 2: identify FRC"
   ]
  },
  {
   "cell_type": "code",
   "execution_count": 14,
   "metadata": {},
   "outputs": [],
   "source": [
    "# get equilibrated samples and calculate segment correlation\n",
    "a = np.load(\"a.npy\")\n",
    "b = np.load(\"b.npy\")"
   ]
  },
  {
   "cell_type": "code",
   "execution_count": 24,
   "metadata": {},
   "outputs": [],
   "source": [
    "assert a.shape == (100, 3)\n",
    "assert b.shape == (100, 3)"
   ]
  },
  {
   "cell_type": "code",
   "execution_count": 19,
   "metadata": {},
   "outputs": [
    {
     "name": "stdout",
     "output_type": "stream",
     "text": [
      "l_p/l 0.400282635032846\n",
      "l_p 0.19213566481576608\n"
     ]
    },
    {
     "data": {
      "image/png": "[encoded data removed]",
      "text/plain": [
       "<Figure size 432x288 with 1 Axes>"
      ]
     },
     "metadata": {
      "needs_background": "light"
     },
     "output_type": "display_data"
    }
   ],
   "source": [
    "pos = a\n",
    "\n",
    "# calculate segments\n",
    "segments = pos[1:, :] - pos[:-1, :]\n",
    "\n",
    "# normalize segments\n",
    "#segments = (segments.T / np.sqrt(np.sum(np.power(segments, 2.), axis=1)).T).T\n",
    "\n",
    "# calculate segment correlations\n",
    "n_beads = pos.shape[0]\n",
    "separations = np.arange(0, n_beads - 1, 1)\n",
    "corrs = [[] for _ in range(n_beads - 1)]\n",
    "for i in range(n_beads - 1):\n",
    "    for j in range(i, n_beads - 1):\n",
    "        corrs[j - i].append(np.sum(segments[i, :] * segments[j, :]))\n",
    "\n",
    "corrs = np.array([np.mean(c) for c in corrs])\n",
    "plt.plot(separations, corrs)\n",
    "\n",
    "def f(s, a):\n",
    "    return corrs[0] * np.exp(- a * s)\n",
    "\n",
    "# fit exponential decay to bond vector correlation\n",
    "popt, pcov = so.curve_fit(f, separations, corrs)\n",
    "l_p = 1. / popt[0]\n",
    "\n",
    "plt.plot(separations, f(separations, popt[0]))\n",
    "plt.xlabel(\"Distance of segments\")\n",
    "plt.ylabel(\"Correlation of segments\")\n",
    "print(\"l_p/l\", 1./popt[0])\n",
    "print(\"l_p\", bond_length/popt[0])"
   ]
  },
  {
   "cell_type": "markdown",
   "metadata": {},
   "source": [
    "`b` has $l_p\\approx 2$, it is the FRC model, that best models a RNA"
   ]
  },
  {
   "cell_type": "markdown",
   "metadata": {},
   "source": [
    "### Task 3: determine first-passage-time of finding target"
   ]
  },
  {
   "cell_type": "code",
   "execution_count": 210,
   "metadata": {},
   "outputs": [],
   "source": [
    "n_steps = 30000\n",
    "dt = 0.001"
   ]
  },
  {
   "cell_type": "code",
   "execution_count": 315,
   "metadata": {},
   "outputs": [],
   "source": [
    "def target_find(interaction=False, do_traj = True):\n",
    "    out_file = os.path.join(out_dir, f\"find_target_{'int' if interaction else 'noint'}.h5\")\n",
    "    \n",
    "    system = readdy.ReactionDiffusionSystem(\n",
    "        box_size=[16., 16., 16.],\n",
    "        periodic_boundary_conditions=[False, False, False],\n",
    "        unit_system=None)\n",
    "\n",
    "    system.add_topology_species(\"monomer\", 0.1)\n",
    "    system.add_topology_species(\"target\", 0.1)\n",
    "    system.add_species(\"A\", 0.5)\n",
    "    system.add_species(\"B\", 0.5)\n",
    "\n",
    "    system.topologies.add_type(\"polymer\")\n",
    "\n",
    "    origin = np.array([-7.5, -7.5, -7.5])\n",
    "    extent = np.array([15., 15., 15.])\n",
    "\n",
    "    system.potentials.add_box(\"monomer\", force_constant=50., origin=origin, extent=extent)\n",
    "    system.potentials.add_box(\"target\", force_constant=50., origin=origin, extent=extent)\n",
    "    system.potentials.add_box(\"A\", force_constant=50., origin=origin, extent=extent)\n",
    "    system.potentials.add_box(\"B\", force_constant=50., origin=origin, extent=extent)\n",
    "                            \n",
    "    system.potentials.add_harmonic_repulsion(\n",
    "        \"monomer\", \"monomer\", force_constant=50., interaction_distance=1.1*bond_length)\n",
    "    system.potentials.add_harmonic_repulsion(\n",
    "        \"A\", \"A\", force_constant=50., interaction_distance=1.5*bond_length)\n",
    "    \n",
    "    if interaction:\n",
    "        system.potentials.add_weak_interaction_piecewise_harmonic(\n",
    "            \"A\", \"monomer\", force_constant=50., desired_distance=bond_length, depth=1.4, cutoff=2.2*bond_length)\n",
    "    \n",
    "    system.topologies.configure_harmonic_bond(\"monomer\", \"monomer\", force_constant=50., length=bond_length)\n",
    "    system.topologies.configure_harmonic_bond(\"monomer\", \"target\", force_constant=50., length=bond_length)\n",
    "    \n",
    "    \n",
    "    system.topologies.configure_harmonic_angle(\n",
    "        \"monomer\", \"monomer\", \"monomer\", force_constant=20.,\n",
    "        equilibrium_angle=2.530727415391778)\n",
    "    system.topologies.configure_harmonic_angle(\n",
    "        \"monomer\", \"monomer\", \"target\", force_constant=20.,\n",
    "        equilibrium_angle=2.530727415391778)\n",
    "    system.topologies.configure_harmonic_angle(\n",
    "        \"monomer\", \"target\", \"monomer\", force_constant=20.,\n",
    "        equilibrium_angle=2.530727415391778)\n",
    "    \n",
    "    # immediate conversion once the target is found\n",
    "    system.reactions.add(f\"found: A +({bond_length}) target -> B + target\", rate=10000.)\n",
    "    \n",
    "    sim = system.simulation(\"SingleCPU\")\n",
    "\n",
    "    sim.output_file = out_file\n",
    "\n",
    "    if do_traj:\n",
    "        sim.record_trajectory(n_steps//300)\n",
    "    sim.observe.number_of_particles(stride=1, types=[\"B\"])\n",
    "\n",
    "    init_pos = np.load(\"b.npy\")\n",
    "\n",
    "    types = len(init_pos) * [\"monomer\"]\n",
    "    types[10] = \"target\" # define the target to be the 10-th monomer\n",
    "                            \n",
    "    #print(\"init_pos.shape\", init_pos.shape)\n",
    "    #print(\"target position\", init_pos[len(types)//2])\n",
    "\n",
    "    top = sim.add_topology(\"polymer\", types, init_pos)\n",
    "    for i in range(1, len(init_pos)):\n",
    "        top.get_graph().add_edge(i - 1, i)\n",
    "    \n",
    "    # position the protein\n",
    "    sim.add_particles(\"A\", 0.5*np.random.normal(size=(50,3)))\n",
    "\n",
    "    if os.path.exists(sim.output_file):\n",
    "        os.remove(sim.output_file)\n",
    "    \n",
    "    #sim.skin = 0.1\n",
    "    sim.show_progress = False\n",
    "                            \n",
    "    #print(\"Simulate until time\", n_steps * dt)\n",
    "\n",
    "    sim.run(n_steps, dt, show_summary=False)\n",
    "\n",
    "    traj = readdy.Trajectory(out_file)\n",
    "    if do_traj:\n",
    "        traj.convert_to_xyz(\n",
    "            particle_radii={\"monomer\": bond_length / 2.,\n",
    "                            \"target\": bond_length / 2.,\n",
    "                            \"A\": bond_length / 2.,\n",
    "                            \"B\": bond_length / 2.},\n",
    "            draw_box=True)\n",
    "    _, counts = traj.read_observable_number_of_particles()\n",
    "    counts = np.squeeze(counts)\n",
    "                            \n",
    "    largerzero = counts > 0\n",
    "    if np.alltrue(np.logical_not(largerzero)):\n",
    "        passage_time = None\n",
    "    else:\n",
    "        idx = np.argmax(largerzero)\n",
    "        passage_time = idx * dt\n",
    "    \n",
    "    return passage_time"
   ]
  },
  {
   "cell_type": "code",
   "execution_count": 316,
   "metadata": {},
   "outputs": [],
   "source": [
    "ts_int = []\n",
    "ts_noint = []"
   ]
  },
  {
   "cell_type": "code",
   "execution_count": 317,
   "metadata": {},
   "outputs": [],
   "source": [
    "#def worker(i):\n",
    "#    return target_find(i, interaction=True)"
   ]
  },
  {
   "cell_type": "code",
   "execution_count": 318,
   "metadata": {
    "scrolled": true
   },
   "outputs": [],
   "source": [
    "#n = 20\n",
    "#sleeptimes = np.random.uniform(size=(n,)).tolist()\n",
    "#with mp.Pool(4) as p:\n",
    "#      ts_int += list(tqdm(p.imap(worker, sleeptimes), total=n))"
   ]
  },
  {
   "cell_type": "code",
   "execution_count": 323,
   "metadata": {},
   "outputs": [
    {
     "data": {
      "application/vnd.jupyter.widget-view+json": {
       "model_id": "342976982c7a4454a412df31c28c19bd",
       "version_major": 2,
       "version_minor": 0
      },
      "text/plain": [
       "HBox(children=(IntProgress(value=0, max=50), HTML(value='')))"
      ]
     },
     "metadata": {},
     "output_type": "display_data"
    }
   ],
   "source": [
    "n=50\n",
    "for _ in tqdm(range(n)):\n",
    "    ts_int.append(target_find(interaction=True, do_traj=True))"
   ]
  },
  {
   "cell_type": "code",
   "execution_count": 324,
   "metadata": {},
   "outputs": [
    {
     "data": {
      "application/vnd.jupyter.widget-view+json": {
       "model_id": "ca9dbd17ed704399b343057bc2090a08",
       "version_major": 2,
       "version_minor": 0
      },
      "text/plain": [
       "HBox(children=(IntProgress(value=0, max=50), HTML(value='')))"
      ]
     },
     "metadata": {},
     "output_type": "display_data"
    }
   ],
   "source": [
    "n=50\n",
    "for _ in tqdm(range(n)):\n",
    "    ts_noint.append(target_find(interaction=False, do_traj=False))"
   ]
  },
  {
   "cell_type": "code",
   "execution_count": 333,
   "metadata": {},
   "outputs": [
    {
     "data": {
      "text/plain": [
       "100"
      ]
     },
     "execution_count": 333,
     "metadata": {},
     "output_type": "execute_result"
    }
   ],
   "source": [
    "len(ts_int)"
   ]
  },
  {
   "cell_type": "code",
   "execution_count": 334,
   "metadata": {},
   "outputs": [
    {
     "data": {
      "text/plain": [
       "100"
      ]
     },
     "execution_count": 334,
     "metadata": {},
     "output_type": "execute_result"
    }
   ],
   "source": [
    "len(ts_noint)"
   ]
  },
  {
   "cell_type": "markdown",
   "metadata": {},
   "source": [
    "Probability of no event ocurring before $t$ is $P(X>t)=P\\{N(t)=0\\}=e^{-\\lambda t}$. Hence the probability of any event ocurring before $t$ is $P(X\\leq t)=1 - P(X>t)=1-e^{\\lambda t}$. The probability __density__ of waiting times is then $p(t)=\\frac{\\mathrm{d}P}{\\mathrm{d}t}=\\lambda e^{-\\lambda t}$, which is normalized such that $\\int_0^\\infty p(t)\\mathrm{d}t=1$"
   ]
  },
  {
   "cell_type": "code",
   "execution_count": 331,
   "metadata": {},
   "outputs": [
    {
     "data": {
      "text/plain": [
       "<matplotlib.collections.LineCollection at 0x7fda6bfc7b00>"
      ]
     },
     "execution_count": 331,
     "metadata": {},
     "output_type": "execute_result"
    },
    {
     "data": {
      "image/png": "[encoded data removed]",
      "text/plain": [
       "<Figure size 432x288 with 1 Axes>"
      ]
     },
     "metadata": {
      "needs_background": "light"
     },
     "output_type": "display_data"
    }
   ],
   "source": [
    "ts = [x for x in ts_noint if x is not None]\n",
    "plt.hist(ts, bins=np.logspace(0,2,20), density=True)\n",
    "plt.xscale(\"log\")\n",
    "xs = np.logspace(0, 2, 100)\n",
    "# max. lik. waiting time fit leads to parameter being the average rate\n",
    "k = float(len(ts))/np.sum(ts)\n",
    "plt.plot(xs, k*np.exp(-k*xs))\n",
    "plt.vlines(np.mean(ts), *plt.ylim())"
   ]
  },
  {
   "cell_type": "code",
   "execution_count": 332,
   "metadata": {},
   "outputs": [
    {
     "data": {
      "text/plain": [
       "<matplotlib.collections.LineCollection at 0x7fda6bea3a58>"
      ]
     },
     "execution_count": 332,
     "metadata": {},
     "output_type": "execute_result"
    },
    {
     "data": {
      "image/png": "[encoded data removed]",
      "text/plain": [
       "<Figure size 432x288 with 1 Axes>"
      ]
     },
     "metadata": {
      "needs_background": "light"
     },
     "output_type": "display_data"
    }
   ],
   "source": [
    "ts = [x for x in ts_int if x is not None]\n",
    "plt.hist(ts, bins=np.logspace(0,2,20), density=True)\n",
    "plt.xscale(\"log\")\n",
    "xs = np.logspace(0, 2, 100)\n",
    "# max. lik. waiting time fit leads to parameter being the average rate\n",
    "k = float(len(ts))/np.sum(ts)\n",
    "plt.plot(xs, k*np.exp(-k*xs))\n",
    "plt.vlines(np.mean(ts), *plt.ylim())"
   ]
  },
  {
   "cell_type": "markdown",
   "metadata": {},
   "source": [
    "Outcome:\n",
    "- Both are not modeled well by a memory-less process\n",
    "- The interacting case is more tilted towards lower times\n",
    "- However this effect is not well captured by the mean first passage time"
   ]
  },
  {
   "cell_type": "markdown",
   "metadata": {},
   "source": [
    "## Extra task: Calculate radius of gyration for varying chain length"
   ]
  },
  {
   "cell_type": "code",
   "execution_count": null,
   "metadata": {},
   "outputs": [],
   "source": [
    "#extra\n",
    "\n",
    "# calculate radius of gyration\n",
    "mean_pos = np.mean(pos, axis=1)\n",
    "\n",
    "difference = np.zeros_like(pos)\n",
    "for i in range(chain_length):\n",
    "    difference[:, i] = pos[:, i] - mean_pos\n",
    "\n",
    "assert difference.shape == (T, N, 3)\n",
    "\n",
    "# square and sum over coordinates (axis=2)\n",
    "squared_radius_g = np.sum(difference * difference, axis=2)\n",
    "\n",
    "assert squared_radius_g.shape == (T, N)\n",
    "\n",
    "# average over particles (axis=1)\n",
    "squared_radius_g = np.mean(squared_radius_g, axis=1)\n",
    "\n",
    "radius_g = np.sqrt(squared_radius_g)\n",
    "\n",
    "assert radius_g.shape == times.shape == (T,)\n",
    "\n",
    "plt.plot(times * dt, radius_g)\n",
    "\n",
    "plt.show()"
   ]
  }
 ],
 "metadata": {
  "kernelspec": {
   "display_name": "Python 3",
   "language": "python",
   "name": "python3"
  },
  "language_info": {
   "codemirror_mode": {
    "name": "ipython",
    "version": 3
   },
   "file_extension": ".py",
   "mimetype": "text/x-python",
   "name": "python",
   "nbconvert_exporter": "python",
   "pygments_lexer": "ipython3",
   "version": "3.7.3"
  }
 },
 "nbformat": 4,
 "nbformat_minor": 2
}
